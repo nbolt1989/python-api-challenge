{
 "cells": [
  {
   "cell_type": "markdown",
   "metadata": {},
   "source": [
    "# WeatherPy\n",
    "----\n",
    "\n",
    "#### Note\n",
    "* Instructions have been included for each segment. You do not have to follow them exactly, but they are included to help you think through the steps."
   ]
  },
  {
   "cell_type": "code",
   "execution_count": 1,
   "metadata": {
    "scrolled": true
   },
   "outputs": [],
   "source": [
    "# Dependencies and Setup\n",
    "import matplotlib.pyplot as plt\n",
    "import pandas as pd\n",
    "import numpy as np\n",
    "import requests\n",
    "import time\n",
    "from scipy.stats import linregress\n",
    "from pprint import pprint\n",
    "from datetime import time\n",
    "\n",
    "# Import API key\n",
    "from api_keys import weather_api_key\n",
    "\n",
    "# Incorporated citipy to determine city based on latitude and longitude\n",
    "from citipy import citipy\n",
    "\n",
    "# Output File (CSV)\n",
    "output_data_file = \"output_data/cities.csv\"\n",
    "\n",
    "# Range of latitudes and longitudes\n",
    "lat_range = (-90, 90)\n",
    "lng_range = (-180, 180)\n",
    "\n",
    "#Setting up my URL and query URL\n",
    "# There was an issue where it was reading in metric so I converted it to imperial:\n",
    "# https://openweathermap.org/current#format\n",
    "url = \"http://api.openweathermap.org/data/2.5/weather?units=Imperial&\"\n",
    "# Query URL:\n",
    "query_url = url + \"appid=\" + weather_api_key + \"&q=\"\n",
    "#requests.get(query_url + 'portland').json()"
   ]
  },
  {
   "cell_type": "markdown",
   "metadata": {},
   "source": [
    "## Generate Cities List"
   ]
  },
  {
   "cell_type": "code",
   "execution_count": 2,
   "metadata": {},
   "outputs": [
    {
     "name": "stdout",
     "output_type": "stream",
     "text": [
      "628\n"
     ]
    }
   ],
   "source": [
    "# List for holding lat_lngs and cities\n",
    "lat_lngs = []\n",
    "cities = []\n",
    "\n",
    "# Create a set of random lat and lng combinations\n",
    "lats = np.random.uniform(lat_range[0], lat_range[1], size=1500) \n",
    "lngs = np.random.uniform(lng_range[0], lng_range[1], size=1500) \n",
    "lat_lngs = zip(lats, lngs)\n",
    "\n",
    "# Identify nearest city for each lat, lng combination\n",
    "for lat_lng in lat_lngs:\n",
    "    city = citipy.nearest_city(lat_lng[0], lat_lng[1]).city_name\n",
    "    \n",
    "    # If the city is unique, then add it to a our cities list\n",
    "    if city not in cities:\n",
    "        cities.append(city)\n",
    "\n",
    "# Print the city count to confirm sufficient count\n",
    "print(len(cities))"
   ]
  },
  {
   "cell_type": "markdown",
   "metadata": {},
   "source": [
    "### Perform API Calls\n",
    "* Perform a weather check on each city using a series of successive API calls.\n",
    "* Include a print log of each city as it'sbeing processed (with the city number and city name).\n"
   ]
  },
  {
   "cell_type": "code",
   "execution_count": 3,
   "metadata": {},
   "outputs": [
    {
     "name": "stdout",
     "output_type": "stream",
     "text": [
      "\n",
      "Beginning Data Retrieval\n",
      "------------------------\n",
      "    \n",
      "Processing Record 1 for the city of: Port Elizabeth\n",
      "Processing Record 2 for the city of: Bredasdorp\n",
      "Processing Record 3 for the city of: East London\n",
      "Processing Record 4 for the city of: Huesca\n",
      "Processing Record 5 for the city of: Hobart\n",
      "Processing Record 6 for the city of: Mahebourg\n",
      "Processing Record 7 for the city of: Port Alfred\n",
      "Processing Record 8 for the city of: Ngama\n",
      "Processing Record 9 for the city of: Albany\n",
      "Processing Record 10 for the city of: Beringovskiy\n",
      "City was not found for Record 11...skipping to next line\n",
      "Processing Record 12 for the city of: Carmen\n",
      "Processing Record 13 for the city of: Mataura\n",
      "Processing Record 14 for the city of: Corning\n",
      "Processing Record 15 for the city of: Rikitea\n",
      "Processing Record 16 for the city of: Puerto Ayora\n",
      "Processing Record 17 for the city of: Chicama\n",
      "Processing Record 18 for the city of: Komsomolskiy\n",
      "City was not found for Record 19...skipping to next line\n",
      "Processing Record 20 for the city of: Biharamulo\n",
      "Processing Record 21 for the city of: Upernavik\n",
      "Processing Record 22 for the city of: Katsuura\n",
      "Processing Record 23 for the city of: Dzhebariki-Khaya\n",
      "Processing Record 24 for the city of: Jamestown\n",
      "Processing Record 25 for the city of: Limoux\n",
      "Processing Record 26 for the city of: Yellowknife\n",
      "Processing Record 27 for the city of: Talaya\n",
      "Processing Record 28 for the city of: Flinders\n",
      "Processing Record 29 for the city of: Balkanabat\n",
      "Processing Record 30 for the city of: Butaritari\n",
      "Processing Record 31 for the city of: Longyearbyen\n",
      "Processing Record 32 for the city of: Ushuaia\n",
      "City was not found for Record 33...skipping to next line\n",
      "Processing Record 34 for the city of: Lavrentiya\n",
      "Processing Record 35 for the city of: Hithadhoo\n",
      "Processing Record 36 for the city of: Cabo San Lucas\n",
      "Processing Record 37 for the city of: Qaanaaq\n",
      "Processing Record 38 for the city of: Leningradskiy\n",
      "Processing Record 39 for the city of: Batagay\n",
      "Processing Record 40 for the city of: Vaini\n",
      "City was not found for Record 41...skipping to next line\n",
      "Processing Record 42 for the city of: Mikkeli\n",
      "Processing Record 43 for the city of: Kavaratti\n",
      "Processing Record 44 for the city of: Oudtshoorn\n",
      "Processing Record 45 for the city of: Sao Filipe\n",
      "Processing Record 46 for the city of: Kapaa\n",
      "Processing Record 47 for the city of: Saint George\n",
      "Processing Record 48 for the city of: Buala\n",
      "City was not found for Record 49...skipping to next line\n",
      "Processing Record 50 for the city of: Airai\n",
      "Processing Record 51 for the city of: Gornopravdinsk\n",
      "Processing Record 52 for the city of: Provideniya\n",
      "Processing Record 53 for the city of: Punta Arenas\n",
      "Processing Record 54 for the city of: Saint-Georges\n",
      "Processing Record 55 for the city of: Tuktoyaktuk\n",
      "Processing Record 56 for the city of: Chimbote\n",
      "Processing Record 57 for the city of: Lebu\n",
      "Processing Record 58 for the city of: Mount Pleasant\n",
      "Processing Record 59 for the city of: Nanortalik\n",
      "City was not found for Record 60...skipping to next line\n",
      "Processing Record 61 for the city of: Cidreira\n",
      "City was not found for Record 62...skipping to next line\n",
      "Processing Record 63 for the city of: New Norfolk\n",
      "Processing Record 64 for the city of: Thompson\n",
      "Processing Record 65 for the city of: Huescar\n",
      "Processing Record 66 for the city of: Tasiilaq\n",
      "Processing Record 67 for the city of: Busselton\n",
      "City was not found for Record 68...skipping to next line\n",
      "Processing Record 69 for the city of: Carnarvon\n",
      "Processing Record 70 for the city of: Hermanus\n",
      "Processing Record 71 for the city of: Chara\n",
      "Processing Record 72 for the city of: Krasnaya Gorka\n",
      "Processing Record 73 for the city of: Georgetown\n",
      "Processing Record 74 for the city of: Hasaki\n",
      "Processing Record 75 for the city of: Tighina\n",
      "Processing Record 76 for the city of: Winkler\n",
      "Processing Record 77 for the city of: Sale\n",
      "Processing Record 78 for the city of: Dikson\n",
      "Processing Record 79 for the city of: Erdaojiang\n",
      "Processing Record 80 for the city of: Kenai\n",
      "Processing Record 81 for the city of: Puerto Carreno\n",
      "Processing Record 82 for the city of: Taoudenni\n",
      "Processing Record 83 for the city of: Bluff\n",
      "Processing Record 84 for the city of: Kruisfontein\n",
      "City was not found for Record 85...skipping to next line\n",
      "Processing Record 86 for the city of: Pevek\n",
      "Processing Record 87 for the city of: Mar Del Plata\n",
      "Processing Record 88 for the city of: Grindavik\n",
      "Processing Record 89 for the city of: Nikolskoye\n",
      "City was not found for Record 90...skipping to next line\n",
      "Processing Record 91 for the city of: Tiarei\n",
      "Processing Record 92 for the city of: Broken Hill\n",
      "Processing Record 93 for the city of: Alofi\n",
      "Processing Record 94 for the city of: San Quintin\n",
      "Processing Record 95 for the city of: Barrow\n",
      "City was not found for Record 96...skipping to next line\n",
      "Processing Record 97 for the city of: Kamenka\n",
      "Processing Record 98 for the city of: Arrifes\n",
      "Processing Record 99 for the city of: Saposoa\n",
      "Processing Record 100 for the city of: Atuona\n",
      "Processing Record 101 for the city of: Tahe\n",
      "Processing Record 102 for the city of: Olinda\n",
      "Processing Record 103 for the city of: Bonito\n",
      "Processing Record 104 for the city of: Kirakira\n",
      "Processing Record 105 for the city of: Raudeberg\n",
      "Processing Record 106 for the city of: Yumen\n",
      "Processing Record 107 for the city of: Cape Town\n",
      "Processing Record 108 for the city of: Codrington\n",
      "Processing Record 109 for the city of: Touros\n",
      "Processing Record 110 for the city of: Barcelos\n",
      "Processing Record 111 for the city of: Mamedkala\n",
      "Processing Record 112 for the city of: Bengkulu\n",
      "Processing Record 113 for the city of: Bonavista\n",
      "Processing Record 114 for the city of: Fairbanks\n",
      "Processing Record 115 for the city of: Alice Springs\n",
      "Processing Record 116 for the city of: Vardo\n",
      "Processing Record 117 for the city of: Norman Wells\n",
      "Processing Record 118 for the city of: Kodiak\n",
      "Processing Record 119 for the city of: Kaitangata\n",
      "Processing Record 120 for the city of: Victoria\n",
      "Processing Record 121 for the city of: Almaznyy\n",
      "Processing Record 122 for the city of: Arraial Do Cabo\n",
      "Processing Record 123 for the city of: Ylivieska\n",
      "Processing Record 124 for the city of: Cherskiy\n",
      "Processing Record 125 for the city of: Mehamn\n",
      "Processing Record 126 for the city of: Sosnovka\n",
      "Processing Record 127 for the city of: Lata\n",
      "City was not found for Record 128...skipping to next line\n",
      "Processing Record 129 for the city of: Necochea\n",
      "Processing Record 130 for the city of: Chuy\n",
      "Processing Record 131 for the city of: Visby\n",
      "Processing Record 132 for the city of: Tarauaca\n",
      "Processing Record 133 for the city of: Cockburn Town\n",
      "City was not found for Record 134...skipping to next line\n",
      "City was not found for Record 135...skipping to next line\n",
      "Processing Record 136 for the city of: Laguna\n",
      "Processing Record 137 for the city of: Castro\n",
      "Processing Record 138 for the city of: Paducah\n",
      "Processing Record 139 for the city of: Trincomalee\n",
      "Processing Record 140 for the city of: Guerrero Negro\n",
      "Processing Record 141 for the city of: Avarua\n",
      "Processing Record 142 for the city of: Klaksvik\n",
      "Processing Record 143 for the city of: Osa\n",
      "Processing Record 144 for the city of: Presidencia Roque Saenz Pena\n",
      "Processing Record 145 for the city of: Nemuro\n",
      "Processing Record 146 for the city of: Yagodnoye\n",
      "Processing Record 147 for the city of: Beloha\n",
      "Processing Record 148 for the city of: Shasta Lake\n",
      "Processing Record 149 for the city of: Romny\n",
      "Processing Record 150 for the city of: Ribas Do Rio Pardo\n",
      "Processing Record 151 for the city of: Progreso\n",
      "Processing Record 152 for the city of: Ribeira Grande\n",
      "Processing Record 153 for the city of: Inirida\n",
      "Processing Record 154 for the city of: Muli\n",
      "Processing Record 155 for the city of: Turayf\n",
      "City was not found for Record 156...skipping to next line\n",
      "Processing Record 157 for the city of: Butterworth\n",
      "Processing Record 158 for the city of: Porecatu\n",
      "City was not found for Record 159...skipping to next line\n",
      "Processing Record 160 for the city of: Namatanai\n",
      "City was not found for Record 161...skipping to next line\n",
      "Processing Record 162 for the city of: Ossora\n",
      "Processing Record 163 for the city of: Taunsa\n",
      "Processing Record 164 for the city of: Portland\n",
      "Processing Record 165 for the city of: Umm Lajj\n",
      "Processing Record 166 for the city of: Deep River\n",
      "Processing Record 167 for the city of: Atasu\n"
     ]
    },
    {
     "name": "stdout",
     "output_type": "stream",
     "text": [
      "Processing Record 168 for the city of: Coquimbo\n",
      "Processing Record 169 for the city of: Hilo\n",
      "Processing Record 170 for the city of: Kahului\n",
      "Processing Record 171 for the city of: Carrick-On-Suir\n",
      "Processing Record 172 for the city of: Flin Flon\n",
      "Processing Record 173 for the city of: Igrim\n",
      "Processing Record 174 for the city of: Kieta\n",
      "Processing Record 175 for the city of: Bonthe\n",
      "Processing Record 176 for the city of: Conceicao Do Araguaia\n",
      "Processing Record 177 for the city of: Banda Aceh\n",
      "Processing Record 178 for the city of: Ouadda\n",
      "Processing Record 179 for the city of: Vila Velha\n",
      "Processing Record 180 for the city of: Russellville\n",
      "Processing Record 181 for the city of: Moron\n",
      "Processing Record 182 for the city of: Saldanha\n",
      "Processing Record 183 for the city of: Chokurdakh\n",
      "Processing Record 184 for the city of: Camocim\n",
      "Processing Record 185 for the city of: Skjervoy\n",
      "Processing Record 186 for the city of: Mirador\n",
      "Processing Record 187 for the city of: Maarianhamina\n",
      "Processing Record 188 for the city of: Tambopata\n",
      "Processing Record 189 for the city of: Lagoa\n",
      "Processing Record 190 for the city of: Bafoulabe\n",
      "Processing Record 191 for the city of: Iqaluit\n",
      "City was not found for Record 192...skipping to next line\n",
      "Processing Record 193 for the city of: Kletskaya\n",
      "Processing Record 194 for the city of: Kavieng\n",
      "Processing Record 195 for the city of: El Alto\n",
      "Processing Record 196 for the city of: Narsaq\n",
      "Processing Record 197 for the city of: Boende\n",
      "Processing Record 198 for the city of: Tual\n",
      "Processing Record 199 for the city of: Qaqortoq\n",
      "City was not found for Record 200...skipping to next line\n",
      "Processing Record 201 for the city of: Manakara\n",
      "Processing Record 202 for the city of: Faanui\n",
      "Processing Record 203 for the city of: Port Keats\n",
      "Processing Record 204 for the city of: Mecca\n",
      "Processing Record 205 for the city of: Green River\n",
      "Processing Record 206 for the city of: Vila Franca Do Campo\n",
      "Processing Record 207 for the city of: Kutum\n",
      "Processing Record 208 for the city of: Samarai\n",
      "Processing Record 209 for the city of: Aswan\n",
      "Processing Record 210 for the city of: Saint-Philippe\n",
      "Processing Record 211 for the city of: Vila Do Maio\n",
      "Processing Record 212 for the city of: Tuatapere\n",
      "Processing Record 213 for the city of: Preston\n",
      "Processing Record 214 for the city of: Mondlo\n",
      "Processing Record 215 for the city of: Amapa\n",
      "Processing Record 216 for the city of: Valparaiso\n",
      "Processing Record 217 for the city of: Sarangani\n",
      "Processing Record 218 for the city of: Paraopeba\n",
      "Processing Record 219 for the city of: Namibe\n",
      "Processing Record 220 for the city of: Waddan\n",
      "Processing Record 221 for the city of: Lakes Entrance\n",
      "Processing Record 222 for the city of: Verkhniy Baskunchak\n",
      "Processing Record 223 for the city of: Rocha\n",
      "Processing Record 224 for the city of: Yaan\n",
      "Processing Record 225 for the city of: Tevriz\n",
      "Processing Record 226 for the city of: Hambantota\n",
      "City was not found for Record 227...skipping to next line\n",
      "Processing Record 228 for the city of: Basco\n",
      "Processing Record 229 for the city of: Faya\n",
      "City was not found for Record 230...skipping to next line\n",
      "Processing Record 231 for the city of: Kargasok\n",
      "Processing Record 232 for the city of: Haines Junction\n",
      "Processing Record 233 for the city of: Kaihua\n",
      "Processing Record 234 for the city of: Tiksi\n",
      "City was not found for Record 235...skipping to next line\n",
      "Processing Record 236 for the city of: Lianran\n",
      "Processing Record 237 for the city of: Vostok\n",
      "Processing Record 238 for the city of: Paris\n",
      "Processing Record 239 for the city of: Adrar\n",
      "Processing Record 240 for the city of: Mackay\n",
      "Processing Record 241 for the city of: Dehloran\n",
      "Processing Record 242 for the city of: Ambilobe\n",
      "City was not found for Record 243...skipping to next line\n",
      "Processing Record 244 for the city of: Abu Samrah\n",
      "Processing Record 245 for the city of: Saint-Pierre\n",
      "City was not found for Record 246...skipping to next line\n",
      "Processing Record 247 for the city of: Balabac\n",
      "Processing Record 248 for the city of: Ancud\n",
      "Processing Record 249 for the city of: Jibuti\n",
      "Processing Record 250 for the city of: Carutapera\n",
      "Processing Record 251 for the city of: Half Moon Bay\n",
      "Processing Record 252 for the city of: Lamu\n",
      "Processing Record 253 for the city of: Tilichiki\n",
      "Processing Record 254 for the city of: Prince Rupert\n",
      "Processing Record 255 for the city of: Geraldton\n",
      "Processing Record 256 for the city of: Ayan\n",
      "Processing Record 257 for the city of: Suplac\n",
      "Processing Record 258 for the city of: Hamilton\n",
      "Processing Record 259 for the city of: Sitka\n",
      "Processing Record 260 for the city of: Santa Luzia\n",
      "Processing Record 261 for the city of: Aranda De Duero\n",
      "Processing Record 262 for the city of: Cap Malheureux\n",
      "Processing Record 263 for the city of: Negombo\n",
      "Processing Record 264 for the city of: Tocopilla\n",
      "Processing Record 265 for the city of: Anloga\n",
      "Processing Record 266 for the city of: Cayenne\n",
      "Processing Record 267 for the city of: Juneau\n",
      "Processing Record 268 for the city of: Arlit\n",
      "Processing Record 269 for the city of: Bambous Virieux\n",
      "Processing Record 270 for the city of: Kuala Lumpur\n",
      "Processing Record 271 for the city of: Trairi\n",
      "Processing Record 272 for the city of: Hirara\n",
      "Processing Record 273 for the city of: Bambanglipuro\n",
      "Processing Record 274 for the city of: Yulara\n",
      "City was not found for Record 275...skipping to next line\n",
      "Processing Record 276 for the city of: Palu\n",
      "Processing Record 277 for the city of: Te Anau\n",
      "Processing Record 278 for the city of: Planadas\n",
      "Processing Record 279 for the city of: Daru\n",
      "Processing Record 280 for the city of: Kifri\n",
      "Processing Record 281 for the city of: Torbay\n",
      "Processing Record 282 for the city of: Diamantino\n",
      "Processing Record 283 for the city of: Basoko\n",
      "Processing Record 284 for the city of: Imbituba\n",
      "City was not found for Record 285...skipping to next line\n",
      "Processing Record 286 for the city of: Bethel\n",
      "Processing Record 287 for the city of: Victor Harbor\n",
      "Processing Record 288 for the city of: Along\n",
      "City was not found for Record 289...skipping to next line\n",
      "Processing Record 290 for the city of: Ponta Delgada\n",
      "Processing Record 291 for the city of: Minsk\n",
      "Processing Record 292 for the city of: Nabire\n",
      "Processing Record 293 for the city of: Iwanai\n",
      "Processing Record 294 for the city of: Ondangwa\n",
      "Processing Record 295 for the city of: Kathmandu\n",
      "Processing Record 296 for the city of: Mineros\n",
      "Processing Record 297 for the city of: Yurga\n",
      "Processing Record 298 for the city of: Jiaocheng\n",
      "Processing Record 299 for the city of: Alyangula\n",
      "Processing Record 300 for the city of: Axim\n",
      "Processing Record 301 for the city of: Aksay\n",
      "Processing Record 302 for the city of: Ixtapa\n",
      "Processing Record 303 for the city of: Norwich\n",
      "Processing Record 304 for the city of: Mponela\n",
      "Processing Record 305 for the city of: Sweetwater\n",
      "Processing Record 306 for the city of: Mandera\n",
      "Processing Record 307 for the city of: Salalah\n",
      "Processing Record 308 for the city of: Ravensburg\n",
      "Processing Record 309 for the city of: Lasa\n",
      "Processing Record 310 for the city of: Thinadhoo\n",
      "Processing Record 311 for the city of: Lahijan\n",
      "City was not found for Record 312...skipping to next line\n",
      "Processing Record 313 for the city of: Rajula\n",
      "Processing Record 314 for the city of: Great Falls\n",
      "City was not found for Record 315...skipping to next line\n",
      "City was not found for Record 316...skipping to next line\n",
      "Processing Record 317 for the city of: Itarema\n",
      "Processing Record 318 for the city of: Monywa\n",
      "Processing Record 319 for the city of: Waipawa\n",
      "Processing Record 320 for the city of: Ust-Kuyga\n",
      "Processing Record 321 for the city of: Grand Gaube\n",
      "Processing Record 322 for the city of: Kang\n",
      "Processing Record 323 for the city of: Planeta Rica\n",
      "Processing Record 324 for the city of: Narrabri\n",
      "Processing Record 325 for the city of: Awjilah\n",
      "City was not found for Record 326...skipping to next line\n",
      "Processing Record 327 for the city of: Brae\n",
      "Processing Record 328 for the city of: Crestview\n",
      "Processing Record 329 for the city of: Jiangmen\n",
      "Processing Record 330 for the city of: Port Macquarie\n",
      "Processing Record 331 for the city of: Amahai\n",
      "Processing Record 332 for the city of: Kassiopi\n",
      "Processing Record 333 for the city of: Saint Anthony\n",
      "Processing Record 334 for the city of: Toyoshina\n",
      "Processing Record 335 for the city of: Bang Krathum\n",
      "Processing Record 336 for the city of: Havelock\n"
     ]
    },
    {
     "name": "stdout",
     "output_type": "stream",
     "text": [
      "Processing Record 337 for the city of: Zhigansk\n",
      "Processing Record 338 for the city of: Maryborough\n",
      "Processing Record 339 for the city of: San Patricio\n",
      "Processing Record 340 for the city of: Madawaska\n",
      "City was not found for Record 341...skipping to next line\n",
      "Processing Record 342 for the city of: Jelenia Gora\n",
      "Processing Record 343 for the city of: Saskylakh\n",
      "Processing Record 344 for the city of: Port Hardy\n",
      "Processing Record 345 for the city of: Severo-Kurilsk\n",
      "Processing Record 346 for the city of: Poso\n",
      "Processing Record 347 for the city of: Road Town\n",
      "Processing Record 348 for the city of: Bandar\n",
      "Processing Record 349 for the city of: Shiraz\n",
      "Processing Record 350 for the city of: Huarmey\n",
      "City was not found for Record 351...skipping to next line\n",
      "Processing Record 352 for the city of: Ipixuna\n",
      "Processing Record 353 for the city of: Caravelas\n",
      "Processing Record 354 for the city of: Alta Gracia\n",
      "Processing Record 355 for the city of: San Carlos De Bariloche\n",
      "Processing Record 356 for the city of: Susehri\n",
      "Processing Record 357 for the city of: Yenagoa\n",
      "Processing Record 358 for the city of: Harlingen\n",
      "Processing Record 359 for the city of: Gladstone\n",
      "City was not found for Record 360...skipping to next line\n",
      "Processing Record 361 for the city of: Egvekinot\n",
      "Processing Record 362 for the city of: Savannah Bight\n",
      "Processing Record 363 for the city of: Nyaunglebin\n",
      "Processing Record 364 for the city of: Vestmannaeyjar\n",
      "Processing Record 365 for the city of: Bulungu\n",
      "Processing Record 366 for the city of: Iquitos\n",
      "City was not found for Record 367...skipping to next line\n",
      "Processing Record 368 for the city of: Benghazi\n",
      "Processing Record 369 for the city of: Samos\n",
      "Processing Record 370 for the city of: Vanavara\n",
      "Processing Record 371 for the city of: Nantucket\n",
      "Processing Record 372 for the city of: Yuanping\n",
      "Processing Record 373 for the city of: Piacabucu\n",
      "Processing Record 374 for the city of: Inuvik\n",
      "City was not found for Record 375...skipping to next line\n",
      "City was not found for Record 376...skipping to next line\n",
      "Processing Record 377 for the city of: Sioux Lookout\n",
      "Processing Record 378 for the city of: Eydhafushi\n",
      "Processing Record 379 for the city of: Ponta Do Sol\n",
      "Processing Record 380 for the city of: Tiznit\n",
      "Processing Record 381 for the city of: Sukagawa\n",
      "Processing Record 382 for the city of: Batagay-Alyta\n",
      "Processing Record 383 for the city of: Nalut\n",
      "Processing Record 384 for the city of: Hanchuan\n",
      "Processing Record 385 for the city of: Aleksandrovsk-Sakhalinskiy\n",
      "Processing Record 386 for the city of: Hofn\n",
      "Processing Record 387 for the city of: Tezu\n",
      "Processing Record 388 for the city of: Camacha\n",
      "Processing Record 389 for the city of: Luderitz\n",
      "Processing Record 390 for the city of: Yarim\n",
      "Processing Record 391 for the city of: Buraydah\n",
      "Processing Record 392 for the city of: Parakou\n",
      "Processing Record 393 for the city of: Salinopolis\n",
      "Processing Record 394 for the city of: Sao Felix Do Xingu\n",
      "Processing Record 395 for the city of: Nelson Bay\n",
      "Processing Record 396 for the city of: Sokoni\n",
      "Processing Record 397 for the city of: Binzhou\n",
      "Processing Record 398 for the city of: Zheleznodorozhnyy\n",
      "Processing Record 399 for the city of: Ajdabiya\n",
      "Processing Record 400 for the city of: Tazovskiy\n",
      "Processing Record 401 for the city of: Morro Bay\n",
      "Processing Record 402 for the city of: Northam\n",
      "City was not found for Record 403...skipping to next line\n",
      "Processing Record 404 for the city of: Sinnamary\n",
      "Processing Record 405 for the city of: Salta\n",
      "Processing Record 406 for the city of: Itoman\n",
      "Processing Record 407 for the city of: Kidal\n",
      "Processing Record 408 for the city of: Lompoc\n",
      "Processing Record 409 for the city of: Korla\n",
      "Processing Record 410 for the city of: Pisco\n",
      "Processing Record 411 for the city of: Chumikan\n",
      "Processing Record 412 for the city of: Verkh-Usugli\n",
      "Processing Record 413 for the city of: Isangel\n",
      "Processing Record 414 for the city of: Huambo\n",
      "Processing Record 415 for the city of: Petropavlovsk-Kamchatskiy\n",
      "Processing Record 416 for the city of: Linjiang\n",
      "Processing Record 417 for the city of: Constitucion\n",
      "Processing Record 418 for the city of: Gualeguaychu\n",
      "Processing Record 419 for the city of: Abyek\n",
      "City was not found for Record 420...skipping to next line\n",
      "Processing Record 421 for the city of: Auki\n",
      "Processing Record 422 for the city of: Esperance\n",
      "Processing Record 423 for the city of: Yar-Sale\n",
      "Processing Record 424 for the city of: Orange\n",
      "Processing Record 425 for the city of: Vermilion\n",
      "Processing Record 426 for the city of: Kizema\n",
      "Processing Record 427 for the city of: Lorengau\n",
      "Processing Record 428 for the city of: Guilford\n",
      "Processing Record 429 for the city of: Ahipara\n",
      "Processing Record 430 for the city of: Behshahr\n",
      "Processing Record 431 for the city of: Tura\n",
      "Processing Record 432 for the city of: Asfi\n",
      "Processing Record 433 for the city of: Porto Novo\n",
      "Processing Record 434 for the city of: Novobirilyussy\n",
      "Processing Record 435 for the city of: Le Port\n",
      "Processing Record 436 for the city of: Prado\n",
      "Processing Record 437 for the city of: Senneterre\n",
      "Processing Record 438 for the city of: Chake Chake\n",
      "Processing Record 439 for the city of: Kushiro\n",
      "Processing Record 440 for the city of: La Libertad\n",
      "Processing Record 441 for the city of: Forestville\n",
      "Processing Record 442 for the city of: Tubuala\n",
      "Processing Record 443 for the city of: Antalaha\n",
      "Processing Record 444 for the city of: Akyab\n",
      "Processing Record 445 for the city of: Husavik\n",
      "Processing Record 446 for the city of: Novo Aripuana\n",
      "Processing Record 447 for the city of: Mirnyy\n",
      "Processing Record 448 for the city of: Sosnovo-Ozerskoye\n",
      "City was not found for Record 449...skipping to next line\n",
      "Processing Record 450 for the city of: Areosa\n",
      "Processing Record 451 for the city of: Port Blair\n",
      "Processing Record 452 for the city of: Sisimiut\n",
      "Processing Record 453 for the city of: Kudahuvadhoo\n",
      "Processing Record 454 for the city of: Charlottesville\n",
      "Processing Record 455 for the city of: Miquelon\n",
      "City was not found for Record 456...skipping to next line\n",
      "City was not found for Record 457...skipping to next line\n",
      "Processing Record 458 for the city of: Nyurba\n",
      "Processing Record 459 for the city of: Amga\n",
      "Processing Record 460 for the city of: Plettenberg Bay\n",
      "Processing Record 461 for the city of: Puerto Colombia\n",
      "Processing Record 462 for the city of: Matara\n",
      "Processing Record 463 for the city of: Richards Bay\n",
      "City was not found for Record 464...skipping to next line\n",
      "Processing Record 465 for the city of: Caxito\n",
      "Processing Record 466 for the city of: Anadyr\n",
      "Processing Record 467 for the city of: Port-Gentil\n",
      "Processing Record 468 for the city of: Zhuhai\n",
      "Processing Record 469 for the city of: Halifax\n",
      "Processing Record 470 for the city of: Sosenskiy\n",
      "Processing Record 471 for the city of: Hastings\n",
      "Processing Record 472 for the city of: Zhoucheng\n",
      "Processing Record 473 for the city of: Karratha\n",
      "Processing Record 474 for the city of: Fomboni\n",
      "Processing Record 475 for the city of: Veraval\n",
      "Processing Record 476 for the city of: Brownfield\n",
      "City was not found for Record 477...skipping to next line\n",
      "Processing Record 478 for the city of: Weihai\n",
      "Processing Record 479 for the city of: Lagos\n",
      "Processing Record 480 for the city of: Houma\n",
      "Processing Record 481 for the city of: Yeniseysk\n",
      "Processing Record 482 for the city of: Deer Lake\n",
      "Processing Record 483 for the city of: San Cristobal\n",
      "Processing Record 484 for the city of: Loiza\n",
      "Processing Record 485 for the city of: Berlevag\n",
      "Processing Record 486 for the city of: Mitu\n",
      "Processing Record 487 for the city of: Aklavik\n",
      "Processing Record 488 for the city of: Westport\n",
      "Processing Record 489 for the city of: San Fernando\n",
      "Processing Record 490 for the city of: Tamiahua\n",
      "Processing Record 491 for the city of: Liverpool\n",
      "Processing Record 492 for the city of: Santa Cruz\n",
      "City was not found for Record 493...skipping to next line\n",
      "Processing Record 494 for the city of: Fort-Shevchenko\n",
      "Processing Record 495 for the city of: Nhulunbuy\n",
      "Processing Record 496 for the city of: Cordoba\n",
      "Processing Record 497 for the city of: Ballarat\n",
      "Processing Record 498 for the city of: Taraz\n",
      "Processing Record 499 for the city of: Champerico\n",
      "Processing Record 500 for the city of: Palana\n",
      "Processing Record 501 for the city of: Yenotayevka\n",
      "Processing Record 502 for the city of: Komatipoort\n",
      "City was not found for Record 503...skipping to next line\n",
      "Processing Record 504 for the city of: Tadine\n"
     ]
    },
    {
     "name": "stdout",
     "output_type": "stream",
     "text": [
      "Processing Record 505 for the city of: Bara\n",
      "Processing Record 506 for the city of: Indian Head\n",
      "Processing Record 507 for the city of: Sechura\n",
      "Processing Record 508 for the city of: Ugoofaaru\n",
      "Processing Record 509 for the city of: Krasnoarmeysk\n",
      "Processing Record 510 for the city of: Kuytun\n",
      "Processing Record 511 for the city of: Neuquen\n",
      "Processing Record 512 for the city of: Rapar\n",
      "Processing Record 513 for the city of: Nanakuli\n",
      "Processing Record 514 for the city of: Bira\n",
      "Processing Record 515 for the city of: Goure\n",
      "Processing Record 516 for the city of: Shirakawa\n",
      "Processing Record 517 for the city of: Troyes\n",
      "Processing Record 518 for the city of: Tjome\n",
      "Processing Record 519 for the city of: Mirabad\n",
      "Processing Record 520 for the city of: Kangavar\n",
      "Processing Record 521 for the city of: Bakani\n",
      "Processing Record 522 for the city of: Manutuke\n",
      "Processing Record 523 for the city of: Fortuna\n",
      "Processing Record 524 for the city of: Newport\n",
      "Processing Record 525 for the city of: Biak\n",
      "Processing Record 526 for the city of: Kindu\n",
      "Processing Record 527 for the city of: Sao Joao Da Barra\n",
      "Processing Record 528 for the city of: Jardim\n",
      "Processing Record 529 for the city of: Atambua\n",
      "Processing Record 530 for the city of: Nipawin\n",
      "Processing Record 531 for the city of: Mount Isa\n",
      "Processing Record 532 for the city of: Erzin\n",
      "Processing Record 533 for the city of: Hokitika\n",
      "Processing Record 534 for the city of: Whitehorse\n",
      "Processing Record 535 for the city of: Riyadh\n",
      "Processing Record 536 for the city of: Mahon\n",
      "Processing Record 537 for the city of: Bilma\n",
      "Processing Record 538 for the city of: Maiduguri\n",
      "Processing Record 539 for the city of: Naze\n",
      "Processing Record 540 for the city of: Damghan\n",
      "Processing Record 541 for the city of: Saurimo\n",
      "Processing Record 542 for the city of: Comodoro Rivadavia\n",
      "Processing Record 543 for the city of: Pangnirtung\n",
      "Processing Record 544 for the city of: Lazaro Cardenas\n",
      "Processing Record 545 for the city of: Itaituba\n",
      "Processing Record 546 for the city of: Jumla\n",
      "Processing Record 547 for the city of: Havoysund\n",
      "Processing Record 548 for the city of: Mayskiy\n",
      "Processing Record 549 for the city of: Berbera\n",
      "Processing Record 550 for the city of: Teknaf\n",
      "Processing Record 551 for the city of: Harrisonburg\n",
      "Processing Record 552 for the city of: Carlagan\n",
      "Processing Record 553 for the city of: Yangambi\n",
      "Processing Record 554 for the city of: Grand Forks\n",
      "Processing Record 555 for the city of: Katav-Ivanovsk\n",
      "Processing Record 556 for the city of: Kameshkovo\n",
      "Processing Record 557 for the city of: Rayong\n",
      "Processing Record 558 for the city of: Gunjur\n",
      "Processing Record 559 for the city of: Padang\n",
      "Processing Record 560 for the city of: Helong\n",
      "Processing Record 561 for the city of: Erdenet\n",
      "City was not found for Record 562...skipping to next line\n",
      "Processing Record 563 for the city of: Castro Daire\n",
      "Processing Record 564 for the city of: Port Augusta\n",
      "City was not found for Record 565...skipping to next line\n",
      "Processing Record 566 for the city of: Bathsheba\n",
      "Processing Record 567 for the city of: Evensk\n",
      "Processing Record 568 for the city of: Warrenton\n",
      "Processing Record 569 for the city of: Viedma\n",
      "Processing Record 570 for the city of: Quang Ngai\n",
      "Processing Record 571 for the city of: Calama\n",
      "Processing Record 572 for the city of: Port Hawkesbury\n",
      "Processing Record 573 for the city of: Lakatoro\n",
      "Processing Record 574 for the city of: Pasvalys\n",
      "Processing Record 575 for the city of: Sri Madhopur\n",
      "Processing Record 576 for the city of: Ismailia\n",
      "Processing Record 577 for the city of: Minggang\n",
      "Processing Record 578 for the city of: Baykit\n",
      "Processing Record 579 for the city of: Zaozerne\n",
      "Processing Record 580 for the city of: Eenhana\n",
      "Processing Record 581 for the city of: Linxia\n",
      "Processing Record 582 for the city of: Shimoda\n",
      "Processing Record 583 for the city of: Tessalit\n",
      "Processing Record 584 for the city of: Abu Dhabi\n",
      "Processing Record 585 for the city of: Cheney\n",
      "Processing Record 586 for the city of: Mareeba\n",
      "Processing Record 587 for the city of: Rio Gallegos\n",
      "Processing Record 588 for the city of: Yakima\n",
      "City was not found for Record 589...skipping to next line\n",
      "Processing Record 590 for the city of: Nome\n",
      "Processing Record 591 for the city of: Garowe\n",
      "Processing Record 592 for the city of: Bowen\n",
      "Processing Record 593 for the city of: Olavarria\n",
      "Processing Record 594 for the city of: Lambarene\n",
      "Processing Record 595 for the city of: Megion\n",
      "Processing Record 596 for the city of: Clyde River\n",
      "Processing Record 597 for the city of: Vestmanna\n",
      "Processing Record 598 for the city of: Sorland\n",
      "Processing Record 599 for the city of: Katyuzhanka\n",
      "City was not found for Record 600...skipping to next line\n",
      "Processing Record 601 for the city of: Igarka\n",
      "Processing Record 602 for the city of: Walvis Bay\n",
      "Processing Record 603 for the city of: Los Llanos De Aridane\n",
      "Processing Record 604 for the city of: Souillac\n",
      "Processing Record 605 for the city of: Balingasay\n",
      "Processing Record 606 for the city of: Krasnoselkup\n",
      "Processing Record 607 for the city of: Nishihara\n",
      "Processing Record 608 for the city of: Mount Gambier\n",
      "Processing Record 609 for the city of: Redcliffe\n",
      "Processing Record 610 for the city of: La Orilla\n",
      "Processing Record 611 for the city of: Semporna\n",
      "Processing Record 612 for the city of: Otane\n",
      "Processing Record 613 for the city of: Hualmay\n",
      "Processing Record 614 for the city of: Nador\n",
      "City was not found for Record 615...skipping to next line\n",
      "Processing Record 616 for the city of: Gayeri\n",
      "Processing Record 617 for the city of: Balsas\n",
      "Processing Record 618 for the city of: Moramanga\n",
      "Processing Record 619 for the city of: Poya\n",
      "Processing Record 620 for the city of: San Policarpo\n",
      "Processing Record 621 for the city of: Kikwit\n",
      "Processing Record 622 for the city of: Camabatela\n",
      "Processing Record 623 for the city of: Nova Olinda Do Norte\n",
      "Processing Record 624 for the city of: Manaure\n",
      "Processing Record 625 for the city of: La Baule-Escoublac\n",
      "Processing Record 626 for the city of: Nuuk\n",
      "Processing Record 627 for the city of: Broome\n",
      "Processing Record 628 for the city of: Rawson\n",
      "\n",
      "-----------------------\n",
      "Data Retrieval Complete\n",
      "-----------------------\n",
      "\n"
     ]
    }
   ],
   "source": [
    "#Lists\n",
    "cityname = []\n",
    "cityID = []\n",
    "lat = []\n",
    "lng = []\n",
    "maxtemp = []\n",
    "humidity = [] \n",
    "cloudiness = []\n",
    "windspeed = []\n",
    "country = []\n",
    "date = []\n",
    "# Counter\n",
    "record = 0\n",
    "\n",
    "print('''\n",
    "Beginning Data Retrieval\n",
    "------------------------\n",
    "    ''')\n",
    "#Probably going to run into fetching errors so this is where we may have to do try and except\n",
    "for i in cities:\n",
    "    try: \n",
    "        data_loop = requests.get(query_url + i).json()\n",
    "        record += 1\n",
    "        cityname.append(data_loop['name'])\n",
    "        cityID.append(data_loop['id'])\n",
    "        lat.append(data_loop['coord']['lat'])\n",
    "        lng.append(data_loop['coord']['lon'])\n",
    "        maxtemp.append(data_loop['main']['temp_max'])\n",
    "        humidity.append(data_loop['main']['humidity'])\n",
    "        cloudiness.append(data_loop['clouds']['all'])\n",
    "        windspeed.append(data_loop['wind']['speed'])\n",
    "        country.append(data_loop['sys']['country'])\n",
    "        date.append(data_loop['dt'])\n",
    "        print(f'Processing Record {record} for the city of: {i.title()}')\n",
    "        #if record > 9: #will need to set this to 50 when I run the full report\n",
    "            #record = 0\n",
    "    except KeyError:\n",
    "        print(f'City was not found for Record {record}...skipping to next line')\n",
    "print('''\n",
    "-----------------------\n",
    "Data Retrieval Complete\n",
    "-----------------------\n",
    "''')\n"
   ]
  },
  {
   "cell_type": "markdown",
   "metadata": {},
   "source": [
    "### Convert Raw Data to DataFrame\n",
    "* Export the city data into a .csv.\n",
    "* Display the DataFrame"
   ]
  },
  {
   "cell_type": "code",
   "execution_count": 78,
   "metadata": {},
   "outputs": [],
   "source": [
    "weather_dict = {'City': cityname,'Lat':lat,'Long':lng,'Max Temp': maxtemp,'Humidity':humidity,\\\n",
    "               'Cloudiness': cloudiness, 'Wind Speed':windspeed, 'Country': country, 'Date':date}\n",
    "weather_df = pd.DataFrame(weather_dict)\n",
    "#Conversion of time \n",
    "#weather_df['Date']=(pd.to_datetime(weather_df['Date'],unit='s')) \n",
    "#timestamp = weather_df['Date']\n",
    "#export\n",
    "weather_df.to_csv(r'Weather_DF.csv')"
   ]
  },
  {
   "cell_type": "code",
   "execution_count": 96,
   "metadata": {},
   "outputs": [
    {
     "data": {
      "text/html": [
       "<div>\n",
       "<style scoped>\n",
       "    .dataframe tbody tr th:only-of-type {\n",
       "        vertical-align: middle;\n",
       "    }\n",
       "\n",
       "    .dataframe tbody tr th {\n",
       "        vertical-align: top;\n",
       "    }\n",
       "\n",
       "    .dataframe thead th {\n",
       "        text-align: right;\n",
       "    }\n",
       "</style>\n",
       "<table border=\"1\" class=\"dataframe\">\n",
       "  <thead>\n",
       "    <tr style=\"text-align: right;\">\n",
       "      <th></th>\n",
       "      <th>City</th>\n",
       "      <th>Lat</th>\n",
       "      <th>Long</th>\n",
       "      <th>Max Temp</th>\n",
       "      <th>Humidity</th>\n",
       "      <th>Cloudiness</th>\n",
       "      <th>Wind Speed</th>\n",
       "      <th>Country</th>\n",
       "      <th>Date</th>\n",
       "    </tr>\n",
       "  </thead>\n",
       "  <tbody>\n",
       "    <tr>\n",
       "      <th>0</th>\n",
       "      <td>Port Elizabeth</td>\n",
       "      <td>-33.92</td>\n",
       "      <td>25.57</td>\n",
       "      <td>59.00</td>\n",
       "      <td>62</td>\n",
       "      <td>52</td>\n",
       "      <td>21.92</td>\n",
       "      <td>ZA</td>\n",
       "      <td>7/13/2020</td>\n",
       "    </tr>\n",
       "    <tr>\n",
       "      <th>1</th>\n",
       "      <td>Bredasdorp</td>\n",
       "      <td>-34.53</td>\n",
       "      <td>20.04</td>\n",
       "      <td>50.00</td>\n",
       "      <td>81</td>\n",
       "      <td>91</td>\n",
       "      <td>17.22</td>\n",
       "      <td>ZA</td>\n",
       "      <td>7/13/2020</td>\n",
       "    </tr>\n",
       "    <tr>\n",
       "      <th>2</th>\n",
       "      <td>East London</td>\n",
       "      <td>-33.02</td>\n",
       "      <td>27.91</td>\n",
       "      <td>69.62</td>\n",
       "      <td>39</td>\n",
       "      <td>3</td>\n",
       "      <td>15.95</td>\n",
       "      <td>ZA</td>\n",
       "      <td>7/13/2020</td>\n",
       "    </tr>\n",
       "    <tr>\n",
       "      <th>3</th>\n",
       "      <td>Huesca</td>\n",
       "      <td>42.14</td>\n",
       "      <td>-0.41</td>\n",
       "      <td>88.00</td>\n",
       "      <td>31</td>\n",
       "      <td>24</td>\n",
       "      <td>12.75</td>\n",
       "      <td>ES</td>\n",
       "      <td>7/13/2020</td>\n",
       "    </tr>\n",
       "    <tr>\n",
       "      <th>4</th>\n",
       "      <td>Hobart</td>\n",
       "      <td>-42.88</td>\n",
       "      <td>147.33</td>\n",
       "      <td>41.00</td>\n",
       "      <td>86</td>\n",
       "      <td>90</td>\n",
       "      <td>2.24</td>\n",
       "      <td>AU</td>\n",
       "      <td>7/13/2020</td>\n",
       "    </tr>\n",
       "  </tbody>\n",
       "</table>\n",
       "</div>"
      ],
      "text/plain": [
       "             City    Lat    Long  Max Temp  Humidity  Cloudiness  Wind Speed  \\\n",
       "0  Port Elizabeth -33.92   25.57     59.00        62          52       21.92   \n",
       "1      Bredasdorp -34.53   20.04     50.00        81          91       17.22   \n",
       "2     East London -33.02   27.91     69.62        39           3       15.95   \n",
       "3          Huesca  42.14   -0.41     88.00        31          24       12.75   \n",
       "4          Hobart -42.88  147.33     41.00        86          90        2.24   \n",
       "\n",
       "  Country       Date  \n",
       "0      ZA  7/13/2020  \n",
       "1      ZA  7/13/2020  \n",
       "2      ZA  7/13/2020  \n",
       "3      ES  7/13/2020  \n",
       "4      AU  7/13/2020  "
      ]
     },
     "execution_count": 96,
     "metadata": {},
     "output_type": "execute_result"
    }
   ],
   "source": [
    "weather_df.head()"
   ]
  },
  {
   "cell_type": "markdown",
   "metadata": {},
   "source": [
    "## Inspect the data and remove the cities where the humidity > 100%.\n",
    "----\n",
    "Skip this step if there are no cities that have humidity > 100%. "
   ]
  },
  {
   "cell_type": "code",
   "execution_count": 80,
   "metadata": {},
   "outputs": [
    {
     "data": {
      "text/html": [
       "<div>\n",
       "<style scoped>\n",
       "    .dataframe tbody tr th:only-of-type {\n",
       "        vertical-align: middle;\n",
       "    }\n",
       "\n",
       "    .dataframe tbody tr th {\n",
       "        vertical-align: top;\n",
       "    }\n",
       "\n",
       "    .dataframe thead th {\n",
       "        text-align: right;\n",
       "    }\n",
       "</style>\n",
       "<table border=\"1\" class=\"dataframe\">\n",
       "  <thead>\n",
       "    <tr style=\"text-align: right;\">\n",
       "      <th></th>\n",
       "      <th>City</th>\n",
       "      <th>Lat</th>\n",
       "      <th>Long</th>\n",
       "      <th>Max Temp</th>\n",
       "      <th>Humidity</th>\n",
       "      <th>Cloudiness</th>\n",
       "      <th>Wind Speed</th>\n",
       "      <th>Country</th>\n",
       "      <th>Date</th>\n",
       "    </tr>\n",
       "  </thead>\n",
       "  <tbody>\n",
       "  </tbody>\n",
       "</table>\n",
       "</div>"
      ],
      "text/plain": [
       "Empty DataFrame\n",
       "Columns: [City, Lat, Long, Max Temp, Humidity, Cloudiness, Wind Speed, Country, Date]\n",
       "Index: []"
      ]
     },
     "execution_count": 80,
     "metadata": {},
     "output_type": "execute_result"
    }
   ],
   "source": [
    "#  Get the indices of cities that have humidity over 100%.\n",
    "highumid = weather_df.loc[(weather_df['Humidity']>100)]\n",
    "highumid\n",
    "# There are no cities with humidity > 100"
   ]
  },
  {
   "cell_type": "code",
   "execution_count": 91,
   "metadata": {},
   "outputs": [
    {
     "data": {
      "text/html": [
       "<div>\n",
       "<style scoped>\n",
       "    .dataframe tbody tr th:only-of-type {\n",
       "        vertical-align: middle;\n",
       "    }\n",
       "\n",
       "    .dataframe tbody tr th {\n",
       "        vertical-align: top;\n",
       "    }\n",
       "\n",
       "    .dataframe thead th {\n",
       "        text-align: right;\n",
       "    }\n",
       "</style>\n",
       "<table border=\"1\" class=\"dataframe\">\n",
       "  <thead>\n",
       "    <tr style=\"text-align: right;\">\n",
       "      <th></th>\n",
       "      <th>City</th>\n",
       "      <th>Lat</th>\n",
       "      <th>Long</th>\n",
       "      <th>Max Temp</th>\n",
       "      <th>Humidity</th>\n",
       "      <th>Cloudiness</th>\n",
       "      <th>Wind Speed</th>\n",
       "      <th>Country</th>\n",
       "      <th>Date</th>\n",
       "    </tr>\n",
       "  </thead>\n",
       "  <tbody>\n",
       "    <tr>\n",
       "      <th>0</th>\n",
       "      <td>Port Elizabeth</td>\n",
       "      <td>-33.92</td>\n",
       "      <td>25.57</td>\n",
       "      <td>59.00</td>\n",
       "      <td>62</td>\n",
       "      <td>52</td>\n",
       "      <td>21.92</td>\n",
       "      <td>ZA</td>\n",
       "      <td>7/13/2020</td>\n",
       "    </tr>\n",
       "    <tr>\n",
       "      <th>1</th>\n",
       "      <td>Bredasdorp</td>\n",
       "      <td>-34.53</td>\n",
       "      <td>20.04</td>\n",
       "      <td>50.00</td>\n",
       "      <td>81</td>\n",
       "      <td>91</td>\n",
       "      <td>17.22</td>\n",
       "      <td>ZA</td>\n",
       "      <td>7/13/2020</td>\n",
       "    </tr>\n",
       "    <tr>\n",
       "      <th>2</th>\n",
       "      <td>East London</td>\n",
       "      <td>-33.02</td>\n",
       "      <td>27.91</td>\n",
       "      <td>69.62</td>\n",
       "      <td>39</td>\n",
       "      <td>3</td>\n",
       "      <td>15.95</td>\n",
       "      <td>ZA</td>\n",
       "      <td>7/13/2020</td>\n",
       "    </tr>\n",
       "    <tr>\n",
       "      <th>3</th>\n",
       "      <td>Huesca</td>\n",
       "      <td>42.14</td>\n",
       "      <td>-0.41</td>\n",
       "      <td>88.00</td>\n",
       "      <td>31</td>\n",
       "      <td>24</td>\n",
       "      <td>12.75</td>\n",
       "      <td>ES</td>\n",
       "      <td>7/13/2020</td>\n",
       "    </tr>\n",
       "    <tr>\n",
       "      <th>4</th>\n",
       "      <td>Hobart</td>\n",
       "      <td>-42.88</td>\n",
       "      <td>147.33</td>\n",
       "      <td>41.00</td>\n",
       "      <td>86</td>\n",
       "      <td>90</td>\n",
       "      <td>2.24</td>\n",
       "      <td>AU</td>\n",
       "      <td>7/13/2020</td>\n",
       "    </tr>\n",
       "    <tr>\n",
       "      <th>...</th>\n",
       "      <td>...</td>\n",
       "      <td>...</td>\n",
       "      <td>...</td>\n",
       "      <td>...</td>\n",
       "      <td>...</td>\n",
       "      <td>...</td>\n",
       "      <td>...</td>\n",
       "      <td>...</td>\n",
       "      <td>...</td>\n",
       "    </tr>\n",
       "    <tr>\n",
       "      <th>572</th>\n",
       "      <td>Manaure</td>\n",
       "      <td>11.78</td>\n",
       "      <td>-72.44</td>\n",
       "      <td>89.49</td>\n",
       "      <td>55</td>\n",
       "      <td>8</td>\n",
       "      <td>22.24</td>\n",
       "      <td>CO</td>\n",
       "      <td>7/13/2020</td>\n",
       "    </tr>\n",
       "    <tr>\n",
       "      <th>573</th>\n",
       "      <td>La Baule-Escoublac</td>\n",
       "      <td>47.29</td>\n",
       "      <td>-2.36</td>\n",
       "      <td>80.60</td>\n",
       "      <td>36</td>\n",
       "      <td>21</td>\n",
       "      <td>6.93</td>\n",
       "      <td>FR</td>\n",
       "      <td>7/13/2020</td>\n",
       "    </tr>\n",
       "    <tr>\n",
       "      <th>574</th>\n",
       "      <td>Nuuk</td>\n",
       "      <td>64.18</td>\n",
       "      <td>-51.72</td>\n",
       "      <td>59.00</td>\n",
       "      <td>54</td>\n",
       "      <td>20</td>\n",
       "      <td>5.82</td>\n",
       "      <td>GL</td>\n",
       "      <td>7/13/2020</td>\n",
       "    </tr>\n",
       "    <tr>\n",
       "      <th>575</th>\n",
       "      <td>Broome</td>\n",
       "      <td>42.25</td>\n",
       "      <td>-75.83</td>\n",
       "      <td>75.00</td>\n",
       "      <td>73</td>\n",
       "      <td>75</td>\n",
       "      <td>8.05</td>\n",
       "      <td>US</td>\n",
       "      <td>7/13/2020</td>\n",
       "    </tr>\n",
       "    <tr>\n",
       "      <th>576</th>\n",
       "      <td>Rawson</td>\n",
       "      <td>-43.30</td>\n",
       "      <td>-65.10</td>\n",
       "      <td>43.92</td>\n",
       "      <td>59</td>\n",
       "      <td>0</td>\n",
       "      <td>23.22</td>\n",
       "      <td>AR</td>\n",
       "      <td>7/13/2020</td>\n",
       "    </tr>\n",
       "  </tbody>\n",
       "</table>\n",
       "<p>577 rows × 9 columns</p>\n",
       "</div>"
      ],
      "text/plain": [
       "                   City    Lat    Long  Max Temp  Humidity  Cloudiness  \\\n",
       "0        Port Elizabeth -33.92   25.57     59.00        62          52   \n",
       "1            Bredasdorp -34.53   20.04     50.00        81          91   \n",
       "2           East London -33.02   27.91     69.62        39           3   \n",
       "3                Huesca  42.14   -0.41     88.00        31          24   \n",
       "4                Hobart -42.88  147.33     41.00        86          90   \n",
       "..                  ...    ...     ...       ...       ...         ...   \n",
       "572             Manaure  11.78  -72.44     89.49        55           8   \n",
       "573  La Baule-Escoublac  47.29   -2.36     80.60        36          21   \n",
       "574                Nuuk  64.18  -51.72     59.00        54          20   \n",
       "575              Broome  42.25  -75.83     75.00        73          75   \n",
       "576              Rawson -43.30  -65.10     43.92        59           0   \n",
       "\n",
       "     Wind Speed Country       Date  \n",
       "0         21.92      ZA  7/13/2020  \n",
       "1         17.22      ZA  7/13/2020  \n",
       "2         15.95      ZA  7/13/2020  \n",
       "3         12.75      ES  7/13/2020  \n",
       "4          2.24      AU  7/13/2020  \n",
       "..          ...     ...        ...  \n",
       "572       22.24      CO  7/13/2020  \n",
       "573        6.93      FR  7/13/2020  \n",
       "574        5.82      GL  7/13/2020  \n",
       "575        8.05      US  7/13/2020  \n",
       "576       23.22      AR  7/13/2020  \n",
       "\n",
       "[577 rows x 9 columns]"
      ]
     },
     "execution_count": 91,
     "metadata": {},
     "output_type": "execute_result"
    }
   ],
   "source": [
    "# Make a new DataFrame equal to the city data to drop all humidity outliers by index\n",
    "nohumidity_df = weather_df\n",
    "humidindex = nohumidity_df[nohumidity_df['Humidity'] > 100 ].index\n",
    "# Passing \"inplace=False\" will make a copy of the city_data DataFrame, which we call \"clean_city_data\".\n",
    "clean_city_data=nohumidity_df.drop(humidindex, inplace=False)\n",
    "clean_city_data"
   ]
  },
  {
   "cell_type": "code",
   "execution_count": 95,
   "metadata": {},
   "outputs": [],
   "source": [
    "# Extract relevant fields from the data frame\n",
    "# Export the City_Data into a csv\n",
    "clean_city_data.to_csv(r'Clean City Data.csv')"
   ]
  },
  {
   "cell_type": "markdown",
   "metadata": {},
   "source": [
    "## Plotting the Data\n",
    "* Use proper labeling of the plots using plot titles (including date of analysis) and axes labels.\n",
    "* Save the plotted figures as .pngs."
   ]
  },
  {
   "cell_type": "markdown",
   "metadata": {},
   "source": [
    "## Latitude vs. Temperature Plot"
   ]
  },
  {
   "cell_type": "code",
   "execution_count": 82,
   "metadata": {
    "scrolled": true
   },
   "outputs": [
    {
     "data": {
      "image/png": "[encoded data removed]",
      "text/plain": [
       "<Figure size 432x288 with 1 Axes>"
      ]
     },
     "metadata": {
      "needs_background": "light"
     },
     "output_type": "display_data"
    }
   ],
   "source": [
    "# x axis is lat and y = max temp in F \n",
    "date = \"7/13/2020\"\n",
    "x_axis = weather_df['Lat']\n",
    "y_axis = weather_df['Max Temp']\n",
    "plt.scatter(x_axis, y_axis)\n",
    "#plot.scatter(kind=\"scatter\", x=\"Latitude\", y=\"Max Temp\", grid=False, figsize=(6,5),\n",
    "             # title=\"Testing\")\n",
    "# label\n",
    "plt.xlabel(\"Latitude\")\n",
    "plt.ylabel(\"Max Temp in F\")\n",
    "plt.title(\"Max Temp by Latitude \" + date )\n",
    "plt.show()"
   ]
  },
  {
   "cell_type": "markdown",
   "metadata": {},
   "source": [
    "## Latitude vs. Humidity Plot"
   ]
  },
  {
   "cell_type": "code",
   "execution_count": 92,
   "metadata": {},
   "outputs": [
    {
     "data": {
      "image/png": "[encoded data removed]",
      "text/plain": [
       "<Figure size 432x288 with 1 Axes>"
      ]
     },
     "metadata": {
      "needs_background": "light"
     },
     "output_type": "display_data"
    }
   ],
   "source": [
    "# x axis is lat and y = max temp in F \n",
    "x_axis2 = weather_df['Lat']\n",
    "y_axis2 = weather_df['Humidity']\n",
    "plt.scatter(x_axis2, y_axis2)\n",
    "#plot.scatter(kind=\"scatter\", x=\"Latitude\", y=\"Max Temp\", grid=False, figsize=(6,5),\n",
    "             # title=\"Testing\")\n",
    "# label\n",
    "plt.xlabel(\"Latitude\")\n",
    "plt.ylabel(\"Humidity\")\n",
    "plt.title(\"Humidity by Latitude \" + date )\n",
    "plt.show()"
   ]
  },
  {
   "cell_type": "markdown",
   "metadata": {},
   "source": [
    "## Latitude vs. Cloudiness Plot"
   ]
  },
  {
   "cell_type": "code",
   "execution_count": 93,
   "metadata": {},
   "outputs": [
    {
     "data": {
      "image/png": "[encoded data removed]",
      "text/plain": [
       "<Figure size 432x288 with 1 Axes>"
      ]
     },
     "metadata": {
      "needs_background": "light"
     },
     "output_type": "display_data"
    }
   ],
   "source": [
    "# x axis is lat and y = max temp in F \n",
    "x_axis3 = weather_df['Lat']\n",
    "y_axis3 = weather_df['Cloudiness']\n",
    "plt.scatter(x_axis3, y_axis3)\n",
    "#plot.scatter(kind=\"scatter\", x=\"Latitude\", y=\"Max Temp\", grid=False, figsize=(6,5),\n",
    "             # title=\"Testing\")\n",
    "# label\n",
    "plt.xlabel(\"Latitude\")\n",
    "plt.ylabel(\"Cloudiness\")\n",
    "plt.title(\"Cloudiness by Latitude \" + date )\n",
    "plt.show()"
   ]
  },
  {
   "cell_type": "markdown",
   "metadata": {},
   "source": [
    "## Latitude vs. Wind Speed Plot"
   ]
  },
  {
   "cell_type": "code",
   "execution_count": 94,
   "metadata": {},
   "outputs": [
    {
     "data": {
      "image/png": "[encoded data removed]",
      "text/plain": [
       "<Figure size 432x288 with 1 Axes>"
      ]
     },
     "metadata": {
      "needs_background": "light"
     },
     "output_type": "display_data"
    }
   ],
   "source": [
    "# x axis is lat and y = max temp in F \n",
    "x_axis4 = weather_df['Lat']\n",
    "y_axis4 = weather_df['Wind Speed']\n",
    "plt.scatter(x_axis4, y_axis4)\n",
    "#plot.scatter(kind=\"scatter\", x=\"Latitude\", y=\"Max Temp\", grid=False, figsize=(6,5),\n",
    "             # title=\"Testing\")\n",
    "# label\n",
    "plt.xlabel(\"Latitude\")\n",
    "plt.ylabel(\"Windspeed (mph)\")\n",
    "plt.title(\"Windspeed by Latitude \" + date )\n",
    "plt.show()"
   ]
  },
  {
   "cell_type": "markdown",
   "metadata": {},
   "source": [
    "## Linear Regression"
   ]
  },
  {
   "cell_type": "code",
   "execution_count": 11,
   "metadata": {},
   "outputs": [],
   "source": [
    "# OPTIONAL: Create a function to create Linear Regression plots\n",
    "# My function will loop through my lists so I can call the function for whatever my two variables are for the x\n",
    "# and y axis. I will then call the function in a loop of the list. "
   ]
  },
  {
   "cell_type": "code",
   "execution_count": 12,
   "metadata": {},
   "outputs": [],
   "source": [
    "def linfunct(x_values, y_values,title,xlabel,ylabel,i,l):\n",
    "    #Stats will call from my variable above and then look for what ever argument I establish in ()\n",
    "    (slope, intercept, rvalue, pvalue, stderr) = linregress(x_values, y_values)\n",
    "    regress_values = x_values * slope + intercept\n",
    "    line_eq = \"y = \" + str(round(slope,2)) + \"x + \" + str(round(intercept,2))\n",
    "    #plot and format\n",
    "    plt.scatter(x_values,y_values)\n",
    "    plt.plot(x_values,regress_values,\"red\")\n",
    "    plt.annotate(line_eq,(i,l), fontsize=10,color=\"red\")\n",
    "    print(f'The correlation coefficient: {rvalue}')\n",
    "    #label\n",
    "    plt.xlabel(xlabel)\n",
    "    plt.ylabel(ylabel)\n",
    "    plt.title(title)\n",
    "    plt.show()"
   ]
  },
  {
   "cell_type": "code",
   "execution_count": 13,
   "metadata": {},
   "outputs": [],
   "source": [
    "# Create Northern and Southern Hemisphere DataFrames\n",
    "northern_df = weather_df.loc[(weather_df['Lat']>0.01)]\n",
    "southern_df = weather_df.loc[(weather_df['Lat']<0)]"
   ]
  },
  {
   "cell_type": "markdown",
   "metadata": {},
   "source": [
    "####  Northern Hemisphere - Max Temp vs. Latitude Linear Regression"
   ]
  },
  {
   "cell_type": "code",
   "execution_count": 14,
   "metadata": {},
   "outputs": [
    {
     "name": "stdout",
     "output_type": "stream",
     "text": [
      "The correlation coefficient: -0.7313599344961104\n"
     ]
    },
    {
     "data": {
      "image/png": "[encoded data removed]",
      "text/plain": [
       "<Figure size 432x288 with 1 Axes>"
      ]
     },
     "metadata": {
      "needs_background": "light"
     },
     "output_type": "display_data"
    }
   ],
   "source": [
    "linfunct(northern_df[\"Lat\"],northern_df['Max Temp'],\\\n",
    "         title=\"Northern Hem: Max Temp by Latitude\",xlabel = \"Latitude\", ylabel = \"Max Temp (F)\", i=30,l=50)"
   ]
  },
  {
   "cell_type": "markdown",
   "metadata": {},
   "source": [
    "####  Southern Hemisphere - Max Temp vs. Latitude Linear Regression"
   ]
  },
  {
   "cell_type": "code",
   "execution_count": 15,
   "metadata": {},
   "outputs": [
    {
     "name": "stdout",
     "output_type": "stream",
     "text": [
      "The correlation coefficient: 0.8478024800993426\n"
     ]
    },
    {
     "data": {
      "image/png": "[encoded data removed]",
      "text/plain": [
       "<Figure size 432x288 with 1 Axes>"
      ]
     },
     "metadata": {
      "needs_background": "light"
     },
     "output_type": "display_data"
    }
   ],
   "source": [
    "linfunct(southern_df['Lat'],southern_df['Max Temp']\\\n",
    "         ,title=\"Southern Hem: Max Temp by Latitude\",xlabel = \"Latitude\", ylabel = \"Max Temp (F)\",i=-40,l=80)"
   ]
  },
  {
   "cell_type": "markdown",
   "metadata": {},
   "source": [
    "####  Northern Hemisphere - Humidity (%) vs. Latitude Linear Regression"
   ]
  },
  {
   "cell_type": "code",
   "execution_count": 18,
   "metadata": {},
   "outputs": [
    {
     "name": "stdout",
     "output_type": "stream",
     "text": [
      "The correlation coefficient: 0.16814099134451985\n"
     ]
    },
    {
     "data": {
      "image/png": "[encoded data removed]",
      "text/plain": [
       "<Figure size 432x288 with 1 Axes>"
      ]
     },
     "metadata": {
      "needs_background": "light"
     },
     "output_type": "display_data"
    }
   ],
   "source": [
    "linfunct(northern_df['Lat'],northern_df['Humidity'],\\\n",
    "         title=\"Northern Hem: Humidity by Latitude\",xlabel = \"Latitude\", ylabel = \"Humidity\", i=60,l=40)"
   ]
  },
  {
   "cell_type": "markdown",
   "metadata": {},
   "source": [
    "####  Southern Hemisphere - Humidity (%) vs. Latitude Linear Regression"
   ]
  },
  {
   "cell_type": "code",
   "execution_count": 19,
   "metadata": {},
   "outputs": [
    {
     "name": "stdout",
     "output_type": "stream",
     "text": [
      "The correlation coefficient: -0.07312229004277919\n"
     ]
    },
    {
     "data": {
      "image/png": "[encoded data removed]",
      "text/plain": [
       "<Figure size 432x288 with 1 Axes>"
      ]
     },
     "metadata": {
      "needs_background": "light"
     },
     "output_type": "display_data"
    }
   ],
   "source": [
    "linfunct(southern_df['Lat'],southern_df['Humidity'],title=\"Southern Hem: Humidity by Latitude\",\\\n",
    "         xlabel = \"Latitude\", ylabel = \"Humidity\", i=-50,l=60)"
   ]
  },
  {
   "cell_type": "markdown",
   "metadata": {},
   "source": [
    "####  Northern Hemisphere - Cloudiness (%) vs. Latitude Linear Regression"
   ]
  },
  {
   "cell_type": "code",
   "execution_count": 20,
   "metadata": {},
   "outputs": [
    {
     "name": "stdout",
     "output_type": "stream",
     "text": [
      "The correlation coefficient: 0.0881241168148737\n"
     ]
    },
    {
     "data": {
      "image/png": "[encoded data removed]",
      "text/plain": [
       "<Figure size 432x288 with 1 Axes>"
      ]
     },
     "metadata": {
      "needs_background": "light"
     },
     "output_type": "display_data"
    }
   ],
   "source": [
    "linfunct(northern_df['Lat'],northern_df['Cloudiness'],title=\"Northern Hem: CLoudiness by Latitude\",\\\n",
    "         xlabel = \"Latitude\", ylabel = \"Cloudiness\", i=30,l=60)"
   ]
  },
  {
   "cell_type": "markdown",
   "metadata": {},
   "source": [
    "####  Southern Hemisphere - Cloudiness (%) vs. Latitude Linear Regression"
   ]
  },
  {
   "cell_type": "code",
   "execution_count": 21,
   "metadata": {},
   "outputs": [
    {
     "name": "stdout",
     "output_type": "stream",
     "text": [
      "The correlation coefficient: 0.13115987553499037\n"
     ]
    },
    {
     "data": {
      "image/png": "[encoded data removed]",
      "text/plain": [
       "<Figure size 432x288 with 1 Axes>"
      ]
     },
     "metadata": {
      "needs_background": "light"
     },
     "output_type": "display_data"
    }
   ],
   "source": [
    "linfunct(southern_df['Lat'],southern_df['Cloudiness'],title=\"Southern Hem: Cloudiness by Latitude\",\\\n",
    "         xlabel = \"Latitude\", ylabel = \"Cloudiness\",i=-40,l=50)"
   ]
  },
  {
   "cell_type": "markdown",
   "metadata": {},
   "source": [
    "####  Northern Hemisphere - Wind Speed (mph) vs. Latitude Linear Regression"
   ]
  },
  {
   "cell_type": "code",
   "execution_count": 22,
   "metadata": {},
   "outputs": [
    {
     "name": "stdout",
     "output_type": "stream",
     "text": [
      "The correlation coefficient: -0.07263886551670189\n"
     ]
    },
    {
     "data": {
      "image/png": "[encoded data removed]",
      "text/plain": [
       "<Figure size 432x288 with 1 Axes>"
      ]
     },
     "metadata": {
      "needs_background": "light"
     },
     "output_type": "display_data"
    }
   ],
   "source": [
    "linfunct(northern_df['Lat'],northern_df['Wind Speed'],title=\"Northern Hem: Wind Speed (mph) by Latitude\",\\\n",
    "         xlabel = \"Latitude\", ylabel = \"Wind Speed(mph)\", i=50,l=25)"
   ]
  },
  {
   "cell_type": "markdown",
   "metadata": {},
   "source": [
    "####  Southern Hemisphere - Wind Speed (mph) vs. Latitude Linear Regression"
   ]
  },
  {
   "cell_type": "code",
   "execution_count": 24,
   "metadata": {},
   "outputs": [
    {
     "name": "stdout",
     "output_type": "stream",
     "text": [
      "The correlation coefficient: -0.15236134458321424\n"
     ]
    },
    {
     "data": {
      "image/png": "[encoded data removed]",
      "text/plain": [
       "<Figure size 432x288 with 1 Axes>"
      ]
     },
     "metadata": {
      "needs_background": "light"
     },
     "output_type": "display_data"
    }
   ],
   "source": [
    "linfunct(southern_df['Lat'],southern_df['Wind Speed'],title=\"Southern Hem: Wind Speed (mph) by Latitude\",\\\n",
    "         xlabel = \"Latitude\", ylabel = \"Wind Speed (mph)\",i=-55,l=5)"
   ]
  },
  {
   "cell_type": "code",
   "execution_count": null,
   "metadata": {},
   "outputs": [],
   "source": []
  }
 ],
 "metadata": {
  "anaconda-cloud": {},
  "kernel_info": {
   "name": "python3"
  },
  "kernelspec": {
   "display_name": "Python [conda env:PythonData] *",
   "language": "python",
   "name": "conda-env-PythonData-py"
  },
  "language_info": {
   "codemirror_mode": {
    "name": "ipython",
    "version": 3
   },
   "file_extension": ".py",
   "mimetype": "text/x-python",
   "name": "python",
   "nbconvert_exporter": "python",
   "pygments_lexer": "ipython3",
   "version": "3.6.10"
  },
  "latex_envs": {
   "LaTeX_envs_menu_present": true,
   "autoclose": false,
   "autocomplete": true,
   "bibliofile": "biblio.bib",
   "cite_by": "apalike",
   "current_citInitial": 1,
   "eqLabelWithNumbers": true,
   "eqNumInitial": 1,
   "hotkeys": {
    "equation": "Ctrl-E",
    "itemize": "Ctrl-I"
   },
   "labels_anchors": false,
   "latex_user_defs": false,
   "report_style_numbering": false,
   "user_envs_cfg": false
  },
  "nteract": {
   "version": "0.12.3"
  }
 },
 "nbformat": 4,
 "nbformat_minor": 2
}
