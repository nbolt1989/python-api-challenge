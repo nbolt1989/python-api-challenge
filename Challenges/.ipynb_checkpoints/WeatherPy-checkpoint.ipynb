{
 "cells": [
  {
   "cell_type": "markdown",
   "metadata": {},
   "source": [
    "# WeatherPy\n",
    "----\n",
    "\n",
    "#### Note\n",
    "* Instructions have been included for each segment. You do not have to follow them exactly, but they are included to help you think through the steps."
   ]
  },
  {
   "cell_type": "code",
   "execution_count": 2,
   "metadata": {
    "scrolled": true
   },
   "outputs": [],
   "source": [
    "# Dependencies and Setup\n",
    "import matplotlib.pyplot as plt\n",
    "import pandas as pd\n",
    "import numpy as np\n",
    "import requests\n",
    "import time\n",
    "from scipy.stats import linregress\n",
    "from pprint import pprint\n",
    "from datetime import time\n",
    "\n",
    "# Import API key\n",
    "from api_keys import weather_api_key\n",
    "\n",
    "# Incorporated citipy to determine city based on latitude and longitude\n",
    "from citipy import citipy\n",
    "\n",
    "# Output File (CSV)\n",
    "output_data_file = \"output_data/cities.csv\"\n",
    "\n",
    "# Range of latitudes and longitudes\n",
    "lat_range = (-90, 90)\n",
    "lng_range = (-180, 180)\n",
    "\n",
    "#Setting up my URL and query URL\n",
    "# There was an issue where it was reading in metric so I converted it to imperial:\n",
    "# https://openweathermap.org/current#format\n",
    "url = \"http://api.openweathermap.org/data/2.5/weather?units=Imperial&\"\n",
    "# Query URL:\n",
    "query_url = url + \"appid=\" + weather_api_key + \"&q=\"\n",
    "# creating a test request to see the layout:\n",
    "# requests.get(query_url + 'portland').json()"
   ]
  },
  {
   "cell_type": "markdown",
   "metadata": {},
   "source": [
    "## Generate Cities List"
   ]
  },
  {
   "cell_type": "code",
   "execution_count": 3,
   "metadata": {},
   "outputs": [
    {
     "name": "stdout",
     "output_type": "stream",
     "text": [
      "632\n"
     ]
    }
   ],
   "source": [
    "# List for holding lat_lngs and cities\n",
    "lat_lngs = []\n",
    "cities = []\n",
    "\n",
    "# Create a set of random lat and lng combinations\n",
    "lats = np.random.uniform(lat_range[0], lat_range[1], size=1500) \n",
    "lngs = np.random.uniform(lng_range[0], lng_range[1], size=1500) \n",
    "lat_lngs = zip(lats, lngs)\n",
    "\n",
    "# Identify nearest city for each lat, lng combination\n",
    "for lat_lng in lat_lngs:\n",
    "    city = citipy.nearest_city(lat_lng[0], lat_lng[1]).city_name\n",
    "    \n",
    "    # If the city is unique, then add it to a our cities list\n",
    "    if city not in cities:\n",
    "        cities.append(city)\n",
    "\n",
    "# Print the city count to confirm sufficient count\n",
    "print(len(cities))"
   ]
  },
  {
   "cell_type": "markdown",
   "metadata": {},
   "source": [
    "### Perform API Calls\n",
    "* Perform a weather check on each city using a series of successive API calls.\n",
    "* Include a print log of each city as it'sbeing processed (with the city number and city name).\n"
   ]
  },
  {
   "cell_type": "code",
   "execution_count": 5,
   "metadata": {},
   "outputs": [
    {
     "name": "stdout",
     "output_type": "stream",
     "text": [
      "\n",
      "Beginning Data Retrieval\n",
      "------------------------\n",
      "    \n",
      "Processing Record 1 for the city of: Kichmengskiy Gorodok\n",
      "Processing Record 2 for the city of: Hobart\n",
      "Processing Record 3 for the city of: Port Elizabeth\n",
      "Processing Record 4 for the city of: Diffa\n",
      "Processing Record 5 for the city of: Bathsheba\n",
      "No details found for record 6, Illoqqortoormiut...skipping to next line\n",
      "Processing Record 7 for the city of: Ponta Do Sol\n",
      "Processing Record 8 for the city of: Punta Arenas\n",
      "Processing Record 9 for the city of: Hami\n",
      "No details found for record 10, Nizhneyansk...skipping to next line\n",
      "Processing Record 11 for the city of: Provideniya\n",
      "Processing Record 12 for the city of: Vestmannaeyjar\n",
      "Processing Record 13 for the city of: Airai\n",
      "Processing Record 14 for the city of: Jumla\n",
      "Processing Record 15 for the city of: Yulara\n",
      "No details found for record 16, Marcona...skipping to next line\n",
      "Processing Record 17 for the city of: Albany\n",
      "Processing Record 18 for the city of: Trairi\n",
      "Processing Record 19 for the city of: Tasiilaq\n",
      "Processing Record 20 for the city of: Port Alfred\n",
      "Processing Record 21 for the city of: Muzaffarnagar\n",
      "Processing Record 22 for the city of: Jamestown\n",
      "Processing Record 23 for the city of: Trelew\n",
      "Processing Record 24 for the city of: Victoria\n",
      "No details found for record 25, Khonuu...skipping to next line\n",
      "Processing Record 26 for the city of: Aklavik\n",
      "Processing Record 27 for the city of: Ahipara\n",
      "Processing Record 28 for the city of: Hualmay\n",
      "Processing Record 29 for the city of: Sangar\n",
      "Processing Record 30 for the city of: Puerto Ayora\n",
      "Processing Record 31 for the city of: Butaritari\n",
      "Processing Record 32 for the city of: Cam Ranh\n",
      "Processing Record 33 for the city of: Bredasdorp\n",
      "No details found for record 34, Kuhestan...skipping to next line\n",
      "Processing Record 35 for the city of: Rikitea\n",
      "Processing Record 36 for the city of: Cidreira\n",
      "Processing Record 37 for the city of: Kapaa\n",
      "Processing Record 38 for the city of: Tafo\n",
      "Processing Record 39 for the city of: Hermanus\n",
      "Processing Record 40 for the city of: Barrow\n",
      "Processing Record 41 for the city of: Chokurdakh\n",
      "Processing Record 42 for the city of: Bluff\n",
      "Processing Record 43 for the city of: Saumur\n",
      "No details found for record 44, Grand Centre...skipping to next line\n",
      "Processing Record 45 for the city of: Kodiak\n",
      "Processing Record 46 for the city of: Flinders\n",
      "Processing Record 47 for the city of: New Norfolk\n",
      "Processing Record 48 for the city of: Sol-Iletsk\n",
      "Processing Record 49 for the city of: Bulgan\n",
      "Processing Record 50 for the city of: Ushuaia\n",
      "Processing Record 51 for the city of: Bethel\n",
      "No details found for record 52, Taolanaro...skipping to next line\n",
      "Processing Record 53 for the city of: Mataura\n",
      "Processing Record 54 for the city of: Paraiso\n",
      "Processing Record 55 for the city of: Olga\n",
      "No details found for record 56, Ciras...skipping to next line\n",
      "Processing Record 57 for the city of: East London\n",
      "Processing Record 58 for the city of: Vostok\n",
      "Processing Record 59 for the city of: Saint-Philippe\n",
      "Processing Record 60 for the city of: Chesma\n",
      "Processing Record 61 for the city of: Emerald\n",
      "Processing Record 62 for the city of: Cape Town\n",
      "Processing Record 63 for the city of: Saskylakh\n",
      "Processing Record 64 for the city of: Linxia\n",
      "Processing Record 65 for the city of: Ilulissat\n",
      "Processing Record 66 for the city of: At-Bashi\n",
      "Processing Record 67 for the city of: Teguldet\n",
      "Processing Record 68 for the city of: Eureka\n",
      "Processing Record 69 for the city of: Teahupoo\n",
      "Processing Record 70 for the city of: Leh\n",
      "Processing Record 71 for the city of: Norman Wells\n",
      "Processing Record 72 for the city of: Jiazi\n",
      "No details found for record 73, Kuche...skipping to next line\n",
      "Processing Record 74 for the city of: Pisco\n",
      "Processing Record 75 for the city of: Burnie\n",
      "Processing Record 76 for the city of: Castro\n",
      "Processing Record 77 for the city of: Atuona\n",
      "Processing Record 78 for the city of: Hofn\n",
      "No details found for record 79, Umzimvubu...skipping to next line\n",
      "Processing Record 80 for the city of: Esperance\n",
      "Processing Record 81 for the city of: Nanakuli\n",
      "Processing Record 82 for the city of: Longyearbyen\n",
      "Processing Record 83 for the city of: Yellowknife\n",
      "Processing Record 84 for the city of: Balikpapan\n",
      "Processing Record 85 for the city of: Saldanha\n",
      "Processing Record 86 for the city of: Souillac\n",
      "Processing Record 87 for the city of: Bambous Virieux\n",
      "Processing Record 88 for the city of: Palmer\n",
      "Processing Record 89 for the city of: Santiago Tuxtla\n",
      "Processing Record 90 for the city of: Rio De Janeiro\n",
      "Processing Record 91 for the city of: Kuching\n",
      "Processing Record 92 for the city of: Nikolskoye\n",
      "Processing Record 93 for the city of: Qaanaaq\n",
      "Processing Record 94 for the city of: Komsomolskiy\n",
      "Processing Record 95 for the city of: Isangel\n",
      "Processing Record 96 for the city of: Busselton\n",
      "Processing Record 97 for the city of: Deputatskiy\n",
      "Processing Record 98 for the city of: Medea\n",
      "Processing Record 99 for the city of: Te Anau\n",
      "Processing Record 100 for the city of: Poum\n",
      "Processing Record 101 for the city of: Tucumcari\n",
      "Processing Record 102 for the city of: Port-Gentil\n",
      "Processing Record 103 for the city of: Avarua\n",
      "Processing Record 104 for the city of: Nenjiang\n",
      "Processing Record 105 for the city of: Brae\n",
      "Processing Record 106 for the city of: Los Llanos De Aridane\n",
      "Processing Record 107 for the city of: Shahr-E Kord\n",
      "Processing Record 108 for the city of: Guerrero Negro\n",
      "Processing Record 109 for the city of: Vaini\n",
      "Processing Record 110 for the city of: Arman\n",
      "Processing Record 111 for the city of: Bairiki\n",
      "Processing Record 112 for the city of: Tuatapere\n",
      "Processing Record 113 for the city of: Iqaluit\n",
      "Processing Record 114 for the city of: Cherskiy\n",
      "Processing Record 115 for the city of: Maniitsoq\n",
      "Processing Record 116 for the city of: Kushalgarh\n",
      "Processing Record 117 for the city of: Mindelo\n",
      "Processing Record 118 for the city of: La Llanada\n",
      "Processing Record 119 for the city of: Upernavik\n",
      "Processing Record 120 for the city of: Turukhansk\n",
      "Processing Record 121 for the city of: Aykhal\n",
      "Processing Record 122 for the city of: Martapura\n",
      "Processing Record 123 for the city of: Barcelos\n",
      "No details found for record 124, Samusu...skipping to next line\n",
      "Processing Record 125 for the city of: Itoman\n",
      "Processing Record 126 for the city of: Naryan-Mar\n",
      "Processing Record 127 for the city of: Dikson\n",
      "Processing Record 128 for the city of: Axim\n",
      "Processing Record 129 for the city of: Conakry\n",
      "Processing Record 130 for the city of: Pevek\n",
      "Processing Record 131 for the city of: Guarapari\n",
      "Processing Record 132 for the city of: Chuy\n",
      "Processing Record 133 for the city of: Port Hardy\n",
      "Processing Record 134 for the city of: Vanimo\n",
      "Processing Record 135 for the city of: Lengshuijiang\n",
      "Processing Record 136 for the city of: Alofi\n",
      "Processing Record 137 for the city of: Severo-Kurilsk\n",
      "Processing Record 138 for the city of: Krasnoborsk\n",
      "Processing Record 139 for the city of: Cloquet\n",
      "No details found for record 140, Attawapiskat...skipping to next line\n",
      "Processing Record 141 for the city of: Moindou\n",
      "Processing Record 142 for the city of: Carnarvon\n",
      "Processing Record 143 for the city of: Haines Junction\n",
      "Processing Record 144 for the city of: Tonantins\n",
      "Processing Record 145 for the city of: Rawson\n",
      "Processing Record 146 for the city of: Husavik\n",
      "Processing Record 147 for the city of: Springbok\n",
      "Processing Record 148 for the city of: Hilo\n",
      "Processing Record 149 for the city of: Lasa\n",
      "Processing Record 150 for the city of: Beloha\n",
      "Processing Record 151 for the city of: Bergama\n",
      "Processing Record 152 for the city of: Charleston\n",
      "Processing Record 153 for the city of: Baruun-Urt\n",
      "No details found for record 154, Barentsburg...skipping to next line\n",
      "Processing Record 155 for the city of: Desert Hot Springs\n",
      "Processing Record 156 for the city of: Doha\n",
      "Processing Record 157 for the city of: Grindavik\n",
      "Processing Record 158 for the city of: Ribeira Grande\n",
      "Processing Record 159 for the city of: San Cristobal\n",
      "Processing Record 160 for the city of: Inongo\n",
      "Processing Record 161 for the city of: San Ignacio\n",
      "Processing Record 162 for the city of: Huarmey\n",
      "Processing Record 163 for the city of: Tautira\n",
      "Processing Record 164 for the city of: West Wendover\n",
      "Processing Record 165 for the city of: Shwebo\n",
      "Processing Record 166 for the city of: Nizhnyaya Tura\n"
     ]
    },
    {
     "name": "stdout",
     "output_type": "stream",
     "text": [
      "Processing Record 167 for the city of: Caravelas\n",
      "Processing Record 168 for the city of: Mamallapuram\n",
      "Processing Record 169 for the city of: Tilichiki\n",
      "Processing Record 170 for the city of: Coahuayana\n",
      "No details found for record 171, Mentok...skipping to next line\n",
      "Processing Record 172 for the city of: Ibotirama\n",
      "Processing Record 173 for the city of: Kaitangata\n",
      "Processing Record 174 for the city of: Leningradskiy\n",
      "Processing Record 175 for the city of: Pryazha\n",
      "Processing Record 176 for the city of: Mount Gambier\n",
      "Processing Record 177 for the city of: Abu Zabad\n",
      "Processing Record 178 for the city of: Nome\n",
      "Processing Record 179 for the city of: Half Moon Bay\n",
      "Processing Record 180 for the city of: Itarema\n",
      "No details found for record 181, Bandar Maharani...skipping to next line\n",
      "Processing Record 182 for the city of: Paamiut\n",
      "Processing Record 183 for the city of: Cap Malheureux\n",
      "Processing Record 184 for the city of: Lebu\n",
      "Processing Record 185 for the city of: Mazatlan\n",
      "No details found for record 186, Axixa Do Tocantins...skipping to next line\n",
      "Processing Record 187 for the city of: La Roche-Sur-Yon\n",
      "Processing Record 188 for the city of: Arraial Do Cabo\n",
      "Processing Record 189 for the city of: Vila Franca Do Campo\n",
      "Processing Record 190 for the city of: Abalak\n",
      "Processing Record 191 for the city of: Wladyslawowo\n",
      "No details found for record 192, Belushya Guba...skipping to next line\n",
      "Processing Record 193 for the city of: Aguimes\n",
      "Processing Record 194 for the city of: Dingle\n",
      "Processing Record 195 for the city of: Santa Isabel Do Rio Negro\n",
      "Processing Record 196 for the city of: Mahebourg\n",
      "Processing Record 197 for the city of: Avera\n",
      "Processing Record 198 for the city of: Takoradi\n",
      "Processing Record 199 for the city of: Cambados\n",
      "Processing Record 200 for the city of: Ormond Beach\n",
      "Processing Record 201 for the city of: Katsuura\n",
      "Processing Record 202 for the city of: Verkhnevilyuysk\n",
      "Processing Record 203 for the city of: Kavieng\n",
      "Processing Record 204 for the city of: Simpang\n",
      "Processing Record 205 for the city of: Clyde River\n",
      "Processing Record 206 for the city of: Solnechnyy\n",
      "Processing Record 207 for the city of: Dunda\n",
      "Processing Record 208 for the city of: Angoche\n",
      "No details found for record 209, Sentyabrskiy...skipping to next line\n",
      "Processing Record 210 for the city of: Saint-Francois\n",
      "Processing Record 211 for the city of: Gamba\n",
      "No details found for record 212, Dolbeau...skipping to next line\n",
      "Processing Record 213 for the city of: Havre-Saint-Pierre\n",
      "Processing Record 214 for the city of: Buenos Aires\n",
      "Processing Record 215 for the city of: Vila Velha\n",
      "Processing Record 216 for the city of: Fulton\n",
      "Processing Record 217 for the city of: Novozavidovskiy\n",
      "Processing Record 218 for the city of: Homer\n",
      "Processing Record 219 for the city of: Tucupita\n",
      "Processing Record 220 for the city of: Mar Del Plata\n",
      "Processing Record 221 for the city of: Chabahar\n",
      "Processing Record 222 for the city of: Launceston\n",
      "Processing Record 223 for the city of: San Patricio\n",
      "Processing Record 224 for the city of: Poya\n",
      "Processing Record 225 for the city of: Nouadhibou\n",
      "Processing Record 226 for the city of: Les Cayes\n",
      "Processing Record 227 for the city of: Northam\n",
      "No details found for record 228, Tsihombe...skipping to next line\n",
      "Processing Record 229 for the city of: Henties Bay\n",
      "Processing Record 230 for the city of: Shelburne\n",
      "Processing Record 231 for the city of: Sao Filipe\n",
      "Processing Record 232 for the city of: Praia Da Vitoria\n",
      "Processing Record 233 for the city of: Lavrentiya\n",
      "Processing Record 234 for the city of: Puerto Penasco\n",
      "No details found for record 235, Bargal...skipping to next line\n",
      "Processing Record 236 for the city of: Inhambane\n",
      "Processing Record 237 for the city of: Tuktoyaktuk\n",
      "Processing Record 238 for the city of: Bengkulu\n",
      "Processing Record 239 for the city of: Wanning\n",
      "Processing Record 240 for the city of: Buala\n",
      "Processing Record 241 for the city of: Dubai\n",
      "Processing Record 242 for the city of: Longkou\n",
      "Processing Record 243 for the city of: Ambilobe\n",
      "Processing Record 244 for the city of: Sinop\n",
      "No details found for record 245, Ust-Kamchatsk...skipping to next line\n",
      "Processing Record 246 for the city of: Mozarlandia\n",
      "Processing Record 247 for the city of: Puerto Escondido\n",
      "Processing Record 248 for the city of: Davila\n",
      "Processing Record 249 for the city of: Bitung\n",
      "Processing Record 250 for the city of: Basco\n",
      "Processing Record 251 for the city of: Ambulu\n",
      "Processing Record 252 for the city of: Sao Joao Da Barra\n",
      "Processing Record 253 for the city of: Umm Kaddadah\n",
      "Processing Record 254 for the city of: Fairbanks\n",
      "Processing Record 255 for the city of: Lensk\n",
      "Processing Record 256 for the city of: Uthal\n",
      "Processing Record 257 for the city of: Dese\n",
      "Processing Record 258 for the city of: Qeshm\n",
      "Processing Record 259 for the city of: Krasnoselkup\n",
      "Processing Record 260 for the city of: Kudahuvadhoo\n",
      "Processing Record 261 for the city of: Thompson\n",
      "Processing Record 262 for the city of: Khatanga\n",
      "Processing Record 263 for the city of: The Valley\n",
      "Processing Record 264 for the city of: Eyl\n",
      "Processing Record 265 for the city of: Bud\n",
      "Processing Record 266 for the city of: Ostrovnoy\n",
      "Processing Record 267 for the city of: Acapulco\n",
      "Processing Record 268 for the city of: Seydi\n",
      "Processing Record 269 for the city of: Berlevag\n",
      "Processing Record 270 for the city of: Moron\n",
      "Processing Record 271 for the city of: Jaisalmer\n",
      "Processing Record 272 for the city of: Hithadhoo\n",
      "Processing Record 273 for the city of: Miandrivazo\n",
      "Processing Record 274 for the city of: Lompoc\n",
      "Processing Record 275 for the city of: Durango\n",
      "No details found for record 276, Tinjah...skipping to next line\n",
      "Processing Record 277 for the city of: Talnakh\n",
      "Processing Record 278 for the city of: Washougal\n",
      "Processing Record 279 for the city of: Bilibino\n",
      "Processing Record 280 for the city of: La Asuncion\n",
      "Processing Record 281 for the city of: Hervey Bay\n",
      "Processing Record 282 for the city of: Pangnirtung\n",
      "Processing Record 283 for the city of: Camopi\n",
      "Processing Record 284 for the city of: Kaeo\n",
      "Processing Record 285 for the city of: Praya\n",
      "Processing Record 286 for the city of: Guiyang\n",
      "Processing Record 287 for the city of: Tura\n",
      "Processing Record 288 for the city of: San-Pedro\n",
      "Processing Record 289 for the city of: Ibiapina\n",
      "Processing Record 290 for the city of: Rahden\n",
      "Processing Record 291 for the city of: Tungor\n",
      "Processing Record 292 for the city of: Honningsvag\n",
      "Processing Record 293 for the city of: Waounde\n",
      "Processing Record 294 for the city of: Houma\n",
      "Processing Record 295 for the city of: Codrington\n",
      "Processing Record 296 for the city of: Finschhafen\n",
      "Processing Record 297 for the city of: Mancheral\n",
      "Processing Record 298 for the city of: Bonavista\n",
      "Processing Record 299 for the city of: Makhinjauri\n",
      "No details found for record 300, Ngukurr...skipping to next line\n",
      "Processing Record 301 for the city of: Tateyama\n",
      "Processing Record 302 for the city of: Sorland\n",
      "No details found for record 303, Felidhoo...skipping to next line\n",
      "Processing Record 304 for the city of: Bhuj\n",
      "Processing Record 305 for the city of: Chapais\n",
      "No details found for record 306, Ruatoria...skipping to next line\n",
      "Processing Record 307 for the city of: Dzerzhinsk\n",
      "Processing Record 308 for the city of: Culpeper\n",
      "Processing Record 309 for the city of: Pauini\n",
      "Processing Record 310 for the city of: Karratha\n",
      "Processing Record 311 for the city of: Sigiriya\n",
      "Processing Record 312 for the city of: Slawno\n",
      "No details found for record 313, Yirol...skipping to next line\n",
      "Processing Record 314 for the city of: Mandalgovi\n",
      "Processing Record 315 for the city of: Moroni\n",
      "Processing Record 316 for the city of: Andenes\n",
      "Processing Record 317 for the city of: Port Lincoln\n",
      "Processing Record 318 for the city of: Jyvaskyla\n",
      "Processing Record 319 for the city of: Ixtapa\n",
      "Processing Record 320 for the city of: Iquique\n",
      "Processing Record 321 for the city of: Banda Aceh\n",
      "Processing Record 322 for the city of: Arvi\n",
      "Processing Record 323 for the city of: Tecoanapa\n",
      "Processing Record 324 for the city of: Kavaratti\n",
      "Processing Record 325 for the city of: Tiksi\n",
      "Processing Record 326 for the city of: Varzea Grande\n",
      "Processing Record 327 for the city of: Deniliquin\n",
      "No details found for record 328, Mys Shmidta...skipping to next line\n",
      "Processing Record 329 for the city of: Torbay\n"
     ]
    },
    {
     "name": "stdout",
     "output_type": "stream",
     "text": [
      "Processing Record 330 for the city of: Vardo\n",
      "Processing Record 331 for the city of: Waw\n",
      "Processing Record 332 for the city of: Saint Anthony\n",
      "Processing Record 333 for the city of: Ondo\n",
      "Processing Record 334 for the city of: Serebryansk\n",
      "Processing Record 335 for the city of: Geraldton\n",
      "Processing Record 336 for the city of: Saint George\n",
      "No details found for record 337, Amderma...skipping to next line\n",
      "Processing Record 338 for the city of: Yar-Sale\n",
      "Processing Record 339 for the city of: Novobirilyussy\n",
      "Processing Record 340 for the city of: Presidencia Roque Saenz Pena\n",
      "Processing Record 341 for the city of: Manado\n",
      "Processing Record 342 for the city of: Hasaki\n",
      "Processing Record 343 for the city of: Horsham\n",
      "Processing Record 344 for the city of: Yaan\n",
      "Processing Record 345 for the city of: Lagoa\n",
      "Processing Record 346 for the city of: Prijedor\n",
      "Processing Record 347 for the city of: Sembe\n",
      "No details found for record 348, Grand River South East...skipping to next line\n",
      "Processing Record 349 for the city of: Georgetown\n",
      "Processing Record 350 for the city of: Calvinia\n",
      "Processing Record 351 for the city of: Bibiani\n",
      "Processing Record 352 for the city of: Ulladulla\n",
      "Processing Record 353 for the city of: Morros\n",
      "Processing Record 354 for the city of: Shieli\n",
      "Processing Record 355 for the city of: Merauke\n",
      "Processing Record 356 for the city of: Ramon\n",
      "Processing Record 357 for the city of: Luderitz\n",
      "Processing Record 358 for the city of: Okha\n",
      "No details found for record 359, Mrirt...skipping to next line\n",
      "Processing Record 360 for the city of: Thinadhoo\n",
      "Processing Record 361 for the city of: Mardin\n",
      "Processing Record 362 for the city of: Parkersburg\n",
      "Processing Record 363 for the city of: Korla\n",
      "Processing Record 364 for the city of: Filingue\n",
      "Processing Record 365 for the city of: Sabang\n",
      "Processing Record 366 for the city of: Araouane\n",
      "Processing Record 367 for the city of: Boysun\n",
      "Processing Record 368 for the city of: Portland\n",
      "Processing Record 369 for the city of: Horasan\n",
      "Processing Record 370 for the city of: Camacha\n",
      "Processing Record 371 for the city of: Am Timan\n",
      "Processing Record 372 for the city of: Mount Isa\n",
      "Processing Record 373 for the city of: Sandy Bay\n",
      "Processing Record 374 for the city of: Alnavar\n",
      "Processing Record 375 for the city of: Maceio\n",
      "Processing Record 376 for the city of: San Rafael\n",
      "Processing Record 377 for the city of: George\n",
      "Processing Record 378 for the city of: Bontang\n",
      "Processing Record 379 for the city of: Takab\n",
      "Processing Record 380 for the city of: Srednekolymsk\n",
      "Processing Record 381 for the city of: North Myrtle Beach\n",
      "Processing Record 382 for the city of: Tuy Hoa\n",
      "Processing Record 383 for the city of: Lata\n",
      "Processing Record 384 for the city of: Nautla\n",
      "Processing Record 385 for the city of: Curup\n",
      "Processing Record 386 for the city of: College\n",
      "Processing Record 387 for the city of: Pitimbu\n",
      "Processing Record 388 for the city of: Bubaque\n",
      "Processing Record 389 for the city of: Gambela\n",
      "Processing Record 390 for the city of: Rocha\n",
      "Processing Record 391 for the city of: Katherine\n",
      "Processing Record 392 for the city of: La Ronge\n",
      "No details found for record 393, Tidore...skipping to next line\n",
      "Processing Record 394 for the city of: Guapi\n",
      "Processing Record 395 for the city of: Ranfurly\n",
      "Processing Record 396 for the city of: High Level\n",
      "Processing Record 397 for the city of: Gazojak\n",
      "Processing Record 398 for the city of: Sistranda\n",
      "Processing Record 399 for the city of: Lima\n",
      "Processing Record 400 for the city of: Altay\n",
      "Processing Record 401 for the city of: Kulunda\n",
      "Processing Record 402 for the city of: Tessalit\n",
      "Processing Record 403 for the city of: Kahului\n",
      "Processing Record 404 for the city of: Salalah\n",
      "Processing Record 405 for the city of: Batticaloa\n",
      "Processing Record 406 for the city of: Bumba\n",
      "Processing Record 407 for the city of: Lushoto\n",
      "Processing Record 408 for the city of: Mezhdurechensk\n",
      "Processing Record 409 for the city of: Liwale\n",
      "Processing Record 410 for the city of: Naze\n",
      "Processing Record 411 for the city of: Ust-Kan\n",
      "Processing Record 412 for the city of: Arlit\n",
      "Processing Record 413 for the city of: San Rafael Del Sur\n",
      "Processing Record 414 for the city of: Yumen\n",
      "No details found for record 415, Andevoranto...skipping to next line\n",
      "Processing Record 416 for the city of: Lloydminster\n",
      "Processing Record 417 for the city of: Kyabe\n",
      "Processing Record 418 for the city of: Laguna\n",
      "No details found for record 419, Hunza...skipping to next line\n",
      "Processing Record 420 for the city of: Mumbwa\n",
      "Processing Record 421 for the city of: Magadi\n",
      "Processing Record 422 for the city of: Tari\n",
      "Processing Record 423 for the city of: Vaitape\n",
      "Processing Record 424 for the city of: Gannan\n",
      "Processing Record 425 for the city of: Asau\n",
      "Processing Record 426 for the city of: Grand Forks\n",
      "No details found for record 427, Katha...skipping to next line\n",
      "Processing Record 428 for the city of: Pontianak\n",
      "Processing Record 429 for the city of: Owando\n",
      "Processing Record 430 for the city of: Hohhot\n",
      "Processing Record 431 for the city of: Tchibanga\n",
      "Processing Record 432 for the city of: Lalibela\n",
      "Processing Record 433 for the city of: Honiara\n",
      "No details found for record 434, Wahran...skipping to next line\n",
      "Processing Record 435 for the city of: Marion\n",
      "Processing Record 436 for the city of: Mayo\n",
      "Processing Record 437 for the city of: Gunjur\n",
      "Processing Record 438 for the city of: Fereydun Kenar\n",
      "Processing Record 439 for the city of: Grand Gaube\n",
      "Processing Record 440 for the city of: Sitka\n",
      "Processing Record 441 for the city of: Zyryanka\n",
      "Processing Record 442 for the city of: Skaerbaek\n",
      "Processing Record 443 for the city of: Camabatela\n",
      "No details found for record 444, Ijaki...skipping to next line\n",
      "Processing Record 445 for the city of: Kattivakkam\n",
      "Processing Record 446 for the city of: Fare\n",
      "Processing Record 447 for the city of: Dunedin\n",
      "Processing Record 448 for the city of: Ancud\n",
      "Processing Record 449 for the city of: Argelia\n",
      "Processing Record 450 for the city of: Baglung\n",
      "Processing Record 451 for the city of: Cabo San Lucas\n",
      "No details found for record 452, Saleaula...skipping to next line\n",
      "Processing Record 453 for the city of: Atbasar\n",
      "Processing Record 454 for the city of: Shahada\n",
      "Processing Record 455 for the city of: Guabito\n",
      "Processing Record 456 for the city of: Prado\n",
      "Processing Record 457 for the city of: Muscat\n",
      "Processing Record 458 for the city of: Adrar\n",
      "Processing Record 459 for the city of: Sukumo\n",
      "No details found for record 460, Nepalganj...skipping to next line\n",
      "No details found for record 461, Takob...skipping to next line\n",
      "No details found for record 462, Karaul...skipping to next line\n",
      "Processing Record 463 for the city of: Nelson Bay\n",
      "Processing Record 464 for the city of: Kandrian\n",
      "Processing Record 465 for the city of: Nagato\n",
      "Processing Record 466 for the city of: San Policarpo\n",
      "Processing Record 467 for the city of: Cockburn Town\n",
      "Processing Record 468 for the city of: Florianopolis\n",
      "Processing Record 469 for the city of: Riyadh\n",
      "No details found for record 470, Kadykchan...skipping to next line\n",
      "Processing Record 471 for the city of: Izoplit\n",
      "Processing Record 472 for the city of: Chiredzi\n",
      "Processing Record 473 for the city of: Evensk\n",
      "Processing Record 474 for the city of: Huanren\n",
      "Processing Record 475 for the city of: Inuvik\n",
      "Processing Record 476 for the city of: Havelock\n",
      "Processing Record 477 for the city of: Tual\n",
      "Processing Record 478 for the city of: Inirida\n",
      "Processing Record 479 for the city of: Kamenka\n",
      "Processing Record 480 for the city of: Taltal\n",
      "Processing Record 481 for the city of: Fortuna\n",
      "Processing Record 482 for the city of: Shingu\n",
      "Processing Record 483 for the city of: Quesnel\n",
      "Processing Record 484 for the city of: Rock Sound\n",
      "Processing Record 485 for the city of: Nioro\n",
      "Processing Record 486 for the city of: Hovd\n",
      "Processing Record 487 for the city of: Jalu\n",
      "Processing Record 488 for the city of: Nusaybin\n",
      "No details found for record 489, Thilogne...skipping to next line\n",
      "Processing Record 490 for the city of: Tarabha\n",
      "Processing Record 491 for the city of: Margate\n",
      "Processing Record 492 for the city of: Namatanai\n",
      "Processing Record 493 for the city of: Puerto Colombia\n",
      "Processing Record 494 for the city of: Babstovo\n",
      "Processing Record 495 for the city of: Papetoai\n",
      "Processing Record 496 for the city of: Impfondo\n"
     ]
    },
    {
     "name": "stdout",
     "output_type": "stream",
     "text": [
      "Processing Record 497 for the city of: Olafsvik\n",
      "Processing Record 498 for the city of: Borovoy\n",
      "Processing Record 499 for the city of: Panguna\n",
      "Processing Record 500 for the city of: Ambikapur\n",
      "Processing Record 501 for the city of: Redcar\n",
      "Processing Record 502 for the city of: Aksu\n",
      "Processing Record 503 for the city of: Lagos\n",
      "Processing Record 504 for the city of: Chalus\n",
      "No details found for record 505, Toliary...skipping to next line\n",
      "Processing Record 506 for the city of: Mayenne\n",
      "Processing Record 507 for the city of: Cayenne\n",
      "No details found for record 508, Kazalinsk...skipping to next line\n",
      "Processing Record 509 for the city of: Yingcheng\n",
      "Processing Record 510 for the city of: Cao Bang\n",
      "Processing Record 511 for the city of: Marienburg\n",
      "Processing Record 512 for the city of: Whitehorse\n",
      "Processing Record 513 for the city of: Cananeia\n",
      "Processing Record 514 for the city of: Kangaatsiaq\n",
      "Processing Record 515 for the city of: Suez\n",
      "Processing Record 516 for the city of: Kikwit\n",
      "Processing Record 517 for the city of: Vysokogornyy\n",
      "Processing Record 518 for the city of: Smolenka\n",
      "Processing Record 519 for the city of: Timra\n",
      "Processing Record 520 for the city of: Acari\n",
      "Processing Record 521 for the city of: Santa Maria\n",
      "Processing Record 522 for the city of: Banjar\n",
      "Processing Record 523 for the city of: Sola\n",
      "Processing Record 524 for the city of: Prince Rupert\n",
      "Processing Record 525 for the city of: Chachapoyas\n",
      "Processing Record 526 for the city of: Hamilton\n",
      "Processing Record 527 for the city of: Teya\n",
      "Processing Record 528 for the city of: Ardakan\n",
      "Processing Record 529 for the city of: Khromtau\n",
      "Processing Record 530 for the city of: Yanam\n",
      "Processing Record 531 for the city of: Anito\n",
      "Processing Record 532 for the city of: Coihaique\n",
      "Processing Record 533 for the city of: Jiuquan\n",
      "Processing Record 534 for the city of: Maumere\n",
      "Processing Record 535 for the city of: Lisburn\n",
      "Processing Record 536 for the city of: Broken Hill\n",
      "Processing Record 537 for the city of: Kizlyar\n",
      "Processing Record 538 for the city of: Aksarka\n",
      "Processing Record 539 for the city of: Evora\n",
      "Processing Record 540 for the city of: Tatarsk\n",
      "Processing Record 541 for the city of: Constitucion\n",
      "Processing Record 542 for the city of: Ovsyanka\n",
      "Processing Record 543 for the city of: Puerto Madryn\n",
      "Processing Record 544 for the city of: Faanui\n",
      "Processing Record 545 for the city of: Kjollefjord\n",
      "No details found for record 546, Hihifo...skipping to next line\n",
      "Processing Record 547 for the city of: Comodoro Rivadavia\n",
      "Processing Record 548 for the city of: Puerto Baquerizo Moreno\n",
      "Processing Record 549 for the city of: Valer\n",
      "Processing Record 550 for the city of: Luau\n",
      "Processing Record 551 for the city of: Praia\n",
      "Processing Record 552 for the city of: Pop\n",
      "Processing Record 553 for the city of: Severnyy\n",
      "Processing Record 554 for the city of: Kenai\n",
      "Processing Record 555 for the city of: Bosaso\n",
      "Processing Record 556 for the city of: Marawi\n",
      "Processing Record 557 for the city of: Walvis Bay\n",
      "Processing Record 558 for the city of: Narsaq\n",
      "Processing Record 559 for the city of: Barabai\n",
      "Processing Record 560 for the city of: Igrim\n",
      "Processing Record 561 for the city of: Strezhevoy\n",
      "Processing Record 562 for the city of: Padang\n",
      "Processing Record 563 for the city of: Marabba\n",
      "Processing Record 564 for the city of: Carutapera\n",
      "Processing Record 565 for the city of: Waingapu\n",
      "Processing Record 566 for the city of: Kasungu\n",
      "Processing Record 567 for the city of: Sibolga\n",
      "Processing Record 568 for the city of: Lekoni\n",
      "Processing Record 569 for the city of: Newport\n",
      "Processing Record 570 for the city of: Kodinsk\n",
      "Processing Record 571 for the city of: Urumqi\n",
      "Processing Record 572 for the city of: Bone\n",
      "Processing Record 573 for the city of: Nantucket\n",
      "Processing Record 574 for the city of: Polson\n",
      "Processing Record 575 for the city of: Biak\n",
      "Processing Record 576 for the city of: Palembang\n",
      "Processing Record 577 for the city of: Bandarbeyla\n",
      "Processing Record 578 for the city of: Akdepe\n",
      "Processing Record 579 for the city of: Qaqortoq\n",
      "Processing Record 580 for the city of: Marsh Harbour\n",
      "Processing Record 581 for the city of: Hambantota\n",
      "Processing Record 582 for the city of: Klaksvik\n",
      "Processing Record 583 for the city of: Salekhard\n",
      "Processing Record 584 for the city of: Lorengau\n",
      "Processing Record 585 for the city of: Ust-Ilimsk\n",
      "Processing Record 586 for the city of: Manjacaze\n",
      "Processing Record 587 for the city of: Tarauaca\n",
      "No details found for record 588, Ardistan...skipping to next line\n",
      "Processing Record 589 for the city of: Latung\n",
      "Processing Record 590 for the city of: Linjiang\n",
      "Processing Record 591 for the city of: Santa Cruz\n",
      "Processing Record 592 for the city of: Kruisfontein\n",
      "Processing Record 593 for the city of: Port Macquarie\n",
      "Processing Record 594 for the city of: Collie\n",
      "Processing Record 595 for the city of: Kirovsk\n",
      "Processing Record 596 for the city of: Sovetskiy\n",
      "Processing Record 597 for the city of: Sharkan\n",
      "Processing Record 598 for the city of: Seoul\n",
      "Processing Record 599 for the city of: Hay River\n",
      "Processing Record 600 for the city of: Jiayuguan\n",
      "Processing Record 601 for the city of: Palasa\n",
      "Processing Record 602 for the city of: Illapel\n",
      "Processing Record 603 for the city of: Shumerlya\n",
      "Processing Record 604 for the city of: Magadan\n",
      "Processing Record 605 for the city of: Bendigo\n",
      "Processing Record 606 for the city of: Vrangel\n",
      "Processing Record 607 for the city of: Palana\n",
      "Processing Record 608 for the city of: Pandan\n",
      "Processing Record 609 for the city of: Verkhovazhye\n",
      "No details found for record 610, Bolungarvik...skipping to next line\n",
      "Processing Record 611 for the city of: Pacific Grove\n",
      "Processing Record 612 for the city of: Kendal\n",
      "Processing Record 613 for the city of: Palamos\n",
      "Processing Record 614 for the city of: Nizwa\n",
      "Processing Record 615 for the city of: Pangkalanbuun\n",
      "Processing Record 616 for the city of: Bac Lieu\n",
      "Processing Record 617 for the city of: Bay-Khaak\n",
      "Processing Record 618 for the city of: Wenling\n",
      "Processing Record 619 for the city of: Monteagudo\n",
      "Processing Record 620 for the city of: Port Blair\n",
      "No details found for record 621, Jujuy...skipping to next line\n",
      "No details found for record 622, Negele...skipping to next line\n",
      "Processing Record 623 for the city of: Lakes Entrance\n",
      "Processing Record 624 for the city of: Yining\n",
      "Processing Record 625 for the city of: Barentu\n",
      "Processing Record 626 for the city of: Faya\n",
      "Processing Record 627 for the city of: Nosy Varika\n",
      "Processing Record 628 for the city of: Nieuw Amsterdam\n",
      "Processing Record 629 for the city of: Dehloran\n",
      "Processing Record 630 for the city of: Koumac\n",
      "Processing Record 631 for the city of: Granadilla De Abona\n",
      "Processing Record 632 for the city of: Jiblah\n",
      "\n",
      "-----------------------\n",
      "Data Retrieval Complete\n",
      "-----------------------\n",
      "\n"
     ]
    }
   ],
   "source": [
    "#Lists to append the JSON data I want pulled in\n",
    "cityname = []\n",
    "#cityID = []\n",
    "lat = []\n",
    "lng = []\n",
    "maxtemp = []\n",
    "humidity = [] \n",
    "cloudiness = []\n",
    "windspeed = []\n",
    "country = []\n",
    "date = []\n",
    "# Counter for record #, I am leaving off the batch counter since I don't see the purpose.  \n",
    "record = 0\n",
    "\n",
    "print('''\n",
    "Beginning Data Retrieval\n",
    "------------------------\n",
    "    ''')\n",
    "#Probably going to run into fetching errors so this is where we may have to do try and except\n",
    "# This will be similar to the restuarant activity along with the try/except activities. I am interpreting the city \n",
    "# number as the record pull number. The example in the starter notebook is not pulling the city ID so I will also\n",
    "# not pull it. But the code is similar to everything below where by I will append the city id to an empty list\n",
    "# based on its position in the JSON print out. \n",
    "for i in cities:\n",
    "    try: \n",
    "        data_loop = requests.get(query_url + i).json()\n",
    "        record += 1\n",
    "        cityname.append(data_loop['name'])\n",
    "        cityID.append(data_loop['id'])\n",
    "        lat.append(data_loop['coord']['lat'])\n",
    "        lng.append(data_loop['coord']['lon'])\n",
    "        maxtemp.append(data_loop['main']['temp_max'])\n",
    "        humidity.append(data_loop['main']['humidity'])\n",
    "        cloudiness.append(data_loop['clouds']['all'])\n",
    "        windspeed.append(data_loop['wind']['speed'])\n",
    "        country.append(data_loop['sys']['country'])\n",
    "        date.append(data_loop['dt'])\n",
    "        print(f'Processing Record {record} for the city of: {i.title()}')\n",
    "        # Testing out a record counter reset, it works but I am not going to use it. \n",
    "        #if record > 9: #will need to set this to 50 when I run the full report\n",
    "            #record = 0\n",
    "    except KeyError:\n",
    "        print(f'No details found for record {record}, {i.title()}...skipping to next line')\n",
    "print('''\n",
    "-----------------------\n",
    "Data Retrieval Complete\n",
    "-----------------------\n",
    "''')\n"
   ]
  },
  {
   "cell_type": "markdown",
   "metadata": {},
   "source": [
    "### Convert Raw Data to DataFrame\n",
    "* Export the city data into a .csv.\n",
    "* Display the DataFrame"
   ]
  },
  {
   "cell_type": "code",
   "execution_count": 8,
   "metadata": {},
   "outputs": [],
   "source": [
    "weather_dict = {'City': cityname,'Lat':lat,'Long':lng,'Max Temp': maxtemp,'Humidity':humidity,\\\n",
    "               'Cloudiness': cloudiness, 'Wind Speed':windspeed, 'Country': country, 'Date':date}\n",
    "weather_df = pd.DataFrame(weather_dict)\n",
    "#Conversion of time\n",
    "weather_df['Date']=(pd.to_datetime(weather_df['Date'],unit='s')) \n",
    "#timestamp = weather_df['Date']\n",
    "#export\n",
    "weather_df.to_csv(r'Weather_DF.csv')"
   ]
  },
  {
   "cell_type": "code",
   "execution_count": 9,
   "metadata": {},
   "outputs": [
    {
     "data": {
      "text/html": [
       "<div>\n",
       "<style scoped>\n",
       "    .dataframe tbody tr th:only-of-type {\n",
       "        vertical-align: middle;\n",
       "    }\n",
       "\n",
       "    .dataframe tbody tr th {\n",
       "        vertical-align: top;\n",
       "    }\n",
       "\n",
       "    .dataframe thead th {\n",
       "        text-align: right;\n",
       "    }\n",
       "</style>\n",
       "<table border=\"1\" class=\"dataframe\">\n",
       "  <thead>\n",
       "    <tr style=\"text-align: right;\">\n",
       "      <th></th>\n",
       "      <th>City</th>\n",
       "      <th>Lat</th>\n",
       "      <th>Long</th>\n",
       "      <th>Max Temp</th>\n",
       "      <th>Humidity</th>\n",
       "      <th>Cloudiness</th>\n",
       "      <th>Wind Speed</th>\n",
       "      <th>Country</th>\n",
       "      <th>Date</th>\n",
       "    </tr>\n",
       "  </thead>\n",
       "  <tbody>\n",
       "    <tr>\n",
       "      <th>0</th>\n",
       "      <td>Kichmengskiy Gorodok</td>\n",
       "      <td>59.98</td>\n",
       "      <td>45.79</td>\n",
       "      <td>76.84</td>\n",
       "      <td>87</td>\n",
       "      <td>67</td>\n",
       "      <td>3.58</td>\n",
       "      <td>RU</td>\n",
       "      <td>2020-07-15 13:06:46</td>\n",
       "    </tr>\n",
       "    <tr>\n",
       "      <th>1</th>\n",
       "      <td>Hobart</td>\n",
       "      <td>-42.88</td>\n",
       "      <td>147.33</td>\n",
       "      <td>46.40</td>\n",
       "      <td>75</td>\n",
       "      <td>90</td>\n",
       "      <td>5.82</td>\n",
       "      <td>AU</td>\n",
       "      <td>2020-07-15 13:05:23</td>\n",
       "    </tr>\n",
       "    <tr>\n",
       "      <th>2</th>\n",
       "      <td>Port Elizabeth</td>\n",
       "      <td>-33.92</td>\n",
       "      <td>25.57</td>\n",
       "      <td>62.60</td>\n",
       "      <td>45</td>\n",
       "      <td>15</td>\n",
       "      <td>4.70</td>\n",
       "      <td>ZA</td>\n",
       "      <td>2020-07-15 13:06:46</td>\n",
       "    </tr>\n",
       "    <tr>\n",
       "      <th>3</th>\n",
       "      <td>Diffa</td>\n",
       "      <td>13.32</td>\n",
       "      <td>12.61</td>\n",
       "      <td>94.78</td>\n",
       "      <td>33</td>\n",
       "      <td>2</td>\n",
       "      <td>3.65</td>\n",
       "      <td>NE</td>\n",
       "      <td>2020-07-15 13:06:46</td>\n",
       "    </tr>\n",
       "    <tr>\n",
       "      <th>4</th>\n",
       "      <td>Bathsheba</td>\n",
       "      <td>13.22</td>\n",
       "      <td>-59.52</td>\n",
       "      <td>86.00</td>\n",
       "      <td>66</td>\n",
       "      <td>20</td>\n",
       "      <td>11.41</td>\n",
       "      <td>BB</td>\n",
       "      <td>2020-07-15 13:05:06</td>\n",
       "    </tr>\n",
       "  </tbody>\n",
       "</table>\n",
       "</div>"
      ],
      "text/plain": [
       "                   City    Lat    Long  Max Temp  Humidity  Cloudiness  \\\n",
       "0  Kichmengskiy Gorodok  59.98   45.79     76.84        87          67   \n",
       "1                Hobart -42.88  147.33     46.40        75          90   \n",
       "2        Port Elizabeth -33.92   25.57     62.60        45          15   \n",
       "3                 Diffa  13.32   12.61     94.78        33           2   \n",
       "4             Bathsheba  13.22  -59.52     86.00        66          20   \n",
       "\n",
       "   Wind Speed Country                Date  \n",
       "0        3.58      RU 2020-07-15 13:06:46  \n",
       "1        5.82      AU 2020-07-15 13:05:23  \n",
       "2        4.70      ZA 2020-07-15 13:06:46  \n",
       "3        3.65      NE 2020-07-15 13:06:46  \n",
       "4       11.41      BB 2020-07-15 13:05:06  "
      ]
     },
     "execution_count": 9,
     "metadata": {},
     "output_type": "execute_result"
    }
   ],
   "source": [
    "weather_df.head()"
   ]
  },
  {
   "cell_type": "markdown",
   "metadata": {},
   "source": [
    "## Inspect the data and remove the cities where the humidity > 100%.\n",
    "----\n",
    "Skip this step if there are no cities that have humidity > 100%. "
   ]
  },
  {
   "cell_type": "code",
   "execution_count": 10,
   "metadata": {},
   "outputs": [
    {
     "data": {
      "text/html": [
       "<div>\n",
       "<style scoped>\n",
       "    .dataframe tbody tr th:only-of-type {\n",
       "        vertical-align: middle;\n",
       "    }\n",
       "\n",
       "    .dataframe tbody tr th {\n",
       "        vertical-align: top;\n",
       "    }\n",
       "\n",
       "    .dataframe thead th {\n",
       "        text-align: right;\n",
       "    }\n",
       "</style>\n",
       "<table border=\"1\" class=\"dataframe\">\n",
       "  <thead>\n",
       "    <tr style=\"text-align: right;\">\n",
       "      <th></th>\n",
       "      <th>City</th>\n",
       "      <th>Lat</th>\n",
       "      <th>Long</th>\n",
       "      <th>Max Temp</th>\n",
       "      <th>Humidity</th>\n",
       "      <th>Cloudiness</th>\n",
       "      <th>Wind Speed</th>\n",
       "      <th>Country</th>\n",
       "      <th>Date</th>\n",
       "    </tr>\n",
       "  </thead>\n",
       "  <tbody>\n",
       "  </tbody>\n",
       "</table>\n",
       "</div>"
      ],
      "text/plain": [
       "Empty DataFrame\n",
       "Columns: [City, Lat, Long, Max Temp, Humidity, Cloudiness, Wind Speed, Country, Date]\n",
       "Index: []"
      ]
     },
     "execution_count": 10,
     "metadata": {},
     "output_type": "execute_result"
    }
   ],
   "source": [
    "#  Get the indices of cities that have humidity over 100%.\n",
    "highumid = weather_df.loc[(weather_df['Humidity']>100)]\n",
    "highumid\n",
    "# There are no cities with humidity > 100"
   ]
  },
  {
   "cell_type": "code",
   "execution_count": 13,
   "metadata": {},
   "outputs": [
    {
     "data": {
      "text/html": [
       "<div>\n",
       "<style scoped>\n",
       "    .dataframe tbody tr th:only-of-type {\n",
       "        vertical-align: middle;\n",
       "    }\n",
       "\n",
       "    .dataframe tbody tr th {\n",
       "        vertical-align: top;\n",
       "    }\n",
       "\n",
       "    .dataframe thead th {\n",
       "        text-align: right;\n",
       "    }\n",
       "</style>\n",
       "<table border=\"1\" class=\"dataframe\">\n",
       "  <thead>\n",
       "    <tr style=\"text-align: right;\">\n",
       "      <th></th>\n",
       "      <th>City</th>\n",
       "      <th>Lat</th>\n",
       "      <th>Long</th>\n",
       "      <th>Max Temp</th>\n",
       "      <th>Humidity</th>\n",
       "      <th>Cloudiness</th>\n",
       "      <th>Wind Speed</th>\n",
       "      <th>Country</th>\n",
       "      <th>Date</th>\n",
       "    </tr>\n",
       "  </thead>\n",
       "  <tbody>\n",
       "    <tr>\n",
       "      <th>0</th>\n",
       "      <td>Kichmengskiy Gorodok</td>\n",
       "      <td>59.98</td>\n",
       "      <td>45.79</td>\n",
       "      <td>76.84</td>\n",
       "      <td>87</td>\n",
       "      <td>67</td>\n",
       "      <td>3.58</td>\n",
       "      <td>RU</td>\n",
       "      <td>2020-07-15 13:06:46</td>\n",
       "    </tr>\n",
       "    <tr>\n",
       "      <th>1</th>\n",
       "      <td>Hobart</td>\n",
       "      <td>-42.88</td>\n",
       "      <td>147.33</td>\n",
       "      <td>46.40</td>\n",
       "      <td>75</td>\n",
       "      <td>90</td>\n",
       "      <td>5.82</td>\n",
       "      <td>AU</td>\n",
       "      <td>2020-07-15 13:05:23</td>\n",
       "    </tr>\n",
       "    <tr>\n",
       "      <th>2</th>\n",
       "      <td>Port Elizabeth</td>\n",
       "      <td>-33.92</td>\n",
       "      <td>25.57</td>\n",
       "      <td>62.60</td>\n",
       "      <td>45</td>\n",
       "      <td>15</td>\n",
       "      <td>4.70</td>\n",
       "      <td>ZA</td>\n",
       "      <td>2020-07-15 13:06:46</td>\n",
       "    </tr>\n",
       "    <tr>\n",
       "      <th>3</th>\n",
       "      <td>Diffa</td>\n",
       "      <td>13.32</td>\n",
       "      <td>12.61</td>\n",
       "      <td>94.78</td>\n",
       "      <td>33</td>\n",
       "      <td>2</td>\n",
       "      <td>3.65</td>\n",
       "      <td>NE</td>\n",
       "      <td>2020-07-15 13:06:46</td>\n",
       "    </tr>\n",
       "    <tr>\n",
       "      <th>4</th>\n",
       "      <td>Bathsheba</td>\n",
       "      <td>13.22</td>\n",
       "      <td>-59.52</td>\n",
       "      <td>86.00</td>\n",
       "      <td>66</td>\n",
       "      <td>20</td>\n",
       "      <td>11.41</td>\n",
       "      <td>BB</td>\n",
       "      <td>2020-07-15 13:05:06</td>\n",
       "    </tr>\n",
       "    <tr>\n",
       "      <th>...</th>\n",
       "      <td>...</td>\n",
       "      <td>...</td>\n",
       "      <td>...</td>\n",
       "      <td>...</td>\n",
       "      <td>...</td>\n",
       "      <td>...</td>\n",
       "      <td>...</td>\n",
       "      <td>...</td>\n",
       "      <td>...</td>\n",
       "    </tr>\n",
       "    <tr>\n",
       "      <th>577</th>\n",
       "      <td>Nieuw Amsterdam</td>\n",
       "      <td>5.88</td>\n",
       "      <td>-55.08</td>\n",
       "      <td>82.40</td>\n",
       "      <td>74</td>\n",
       "      <td>20</td>\n",
       "      <td>6.93</td>\n",
       "      <td>SR</td>\n",
       "      <td>2020-07-15 13:08:43</td>\n",
       "    </tr>\n",
       "    <tr>\n",
       "      <th>578</th>\n",
       "      <td>Dehlorān</td>\n",
       "      <td>32.69</td>\n",
       "      <td>47.27</td>\n",
       "      <td>110.75</td>\n",
       "      <td>6</td>\n",
       "      <td>0</td>\n",
       "      <td>24.05</td>\n",
       "      <td>IR</td>\n",
       "      <td>2020-07-15 13:08:43</td>\n",
       "    </tr>\n",
       "    <tr>\n",
       "      <th>579</th>\n",
       "      <td>Koumac</td>\n",
       "      <td>-20.57</td>\n",
       "      <td>164.28</td>\n",
       "      <td>68.99</td>\n",
       "      <td>75</td>\n",
       "      <td>39</td>\n",
       "      <td>7.07</td>\n",
       "      <td>NC</td>\n",
       "      <td>2020-07-15 13:08:43</td>\n",
       "    </tr>\n",
       "    <tr>\n",
       "      <th>580</th>\n",
       "      <td>Granadilla de Abona</td>\n",
       "      <td>28.12</td>\n",
       "      <td>-16.58</td>\n",
       "      <td>82.40</td>\n",
       "      <td>58</td>\n",
       "      <td>0</td>\n",
       "      <td>24.16</td>\n",
       "      <td>ES</td>\n",
       "      <td>2020-07-15 13:04:39</td>\n",
       "    </tr>\n",
       "    <tr>\n",
       "      <th>581</th>\n",
       "      <td>Jiblah</td>\n",
       "      <td>13.92</td>\n",
       "      <td>44.15</td>\n",
       "      <td>69.28</td>\n",
       "      <td>69</td>\n",
       "      <td>93</td>\n",
       "      <td>3.42</td>\n",
       "      <td>YE</td>\n",
       "      <td>2020-07-15 13:08:44</td>\n",
       "    </tr>\n",
       "  </tbody>\n",
       "</table>\n",
       "<p>582 rows × 9 columns</p>\n",
       "</div>"
      ],
      "text/plain": [
       "                     City    Lat    Long  Max Temp  Humidity  Cloudiness  \\\n",
       "0    Kichmengskiy Gorodok  59.98   45.79     76.84        87          67   \n",
       "1                  Hobart -42.88  147.33     46.40        75          90   \n",
       "2          Port Elizabeth -33.92   25.57     62.60        45          15   \n",
       "3                   Diffa  13.32   12.61     94.78        33           2   \n",
       "4               Bathsheba  13.22  -59.52     86.00        66          20   \n",
       "..                    ...    ...     ...       ...       ...         ...   \n",
       "577       Nieuw Amsterdam   5.88  -55.08     82.40        74          20   \n",
       "578              Dehlorān  32.69   47.27    110.75         6           0   \n",
       "579                Koumac -20.57  164.28     68.99        75          39   \n",
       "580   Granadilla de Abona  28.12  -16.58     82.40        58           0   \n",
       "581                Jiblah  13.92   44.15     69.28        69          93   \n",
       "\n",
       "     Wind Speed Country                Date  \n",
       "0          3.58      RU 2020-07-15 13:06:46  \n",
       "1          5.82      AU 2020-07-15 13:05:23  \n",
       "2          4.70      ZA 2020-07-15 13:06:46  \n",
       "3          3.65      NE 2020-07-15 13:06:46  \n",
       "4         11.41      BB 2020-07-15 13:05:06  \n",
       "..          ...     ...                 ...  \n",
       "577        6.93      SR 2020-07-15 13:08:43  \n",
       "578       24.05      IR 2020-07-15 13:08:43  \n",
       "579        7.07      NC 2020-07-15 13:08:43  \n",
       "580       24.16      ES 2020-07-15 13:04:39  \n",
       "581        3.42      YE 2020-07-15 13:08:44  \n",
       "\n",
       "[582 rows x 9 columns]"
      ]
     },
     "execution_count": 13,
     "metadata": {},
     "output_type": "execute_result"
    }
   ],
   "source": [
    "# No cities were > 100% humidity but this would be my approach to creating a clean city dataframe by index.\n",
    "# Make a new DataFrame equal to the city data to drop all humidity outliers by index\n",
    "nohumidity_df = weather_df\n",
    "humidindex = nohumidity_df[nohumidity_df['Humidity'] > 100 ].index\n",
    "# Passing \"inplace=False\" will make a copy of the city_data DataFrame, which we call \"clean_city_data\".\n",
    "clean_city_data_df=nohumidity_df.drop(humidindex, inplace=False)\n",
    "clean_city_data_df"
   ]
  },
  {
   "cell_type": "code",
   "execution_count": 14,
   "metadata": {},
   "outputs": [],
   "source": [
    "# Extract relevant fields from the data frame\n",
    "# Export the City_Data into a csv\n",
    "clean_city_data.to_csv(r'Clean City Data.csv')"
   ]
  },
  {
   "cell_type": "markdown",
   "metadata": {},
   "source": [
    "## Plotting the Data\n",
    "* Use proper labeling of the plots using plot titles (including date of analysis) and axes labels.\n",
    "* Save the plotted figures as .pngs."
   ]
  },
  {
   "cell_type": "markdown",
   "metadata": {},
   "source": [
    "## Latitude vs. Temperature Plot"
   ]
  },
  {
   "cell_type": "code",
   "execution_count": 73,
   "metadata": {
    "scrolled": true
   },
   "outputs": [
    {
     "data": {
      "image/png": "[encoded data removed]",
      "text/plain": [
       "<Figure size 432x288 with 1 Axes>"
      ]
     },
     "metadata": {
      "needs_background": "light"
     },
     "output_type": "display_data"
    }
   ],
   "source": [
    "# I plotted out a function here but thought it was good practice to go the more manual route for practice. \n",
    "# x axis is lat and y is max temp in F \n",
    "datetime = weather_df.iloc[0,8]\n",
    "x_axis = weather_df['Lat']\n",
    "y_axis = weather_df['Max Temp']\n",
    "plt.scatter(x_axis, y_axis)\n",
    "#plot.scatter(kind=\"scatter\", x=\"Latitude\", y=\"Max Temp\", grid=False, figsize=(6,5),\n",
    "             # title=\"Testing\")\n",
    "# label\n",
    "plt.xlabel(\"Latitude\")\n",
    "plt.ylabel(\"Max Temp in F\")\n",
    "plt.title(f\"Max Temp by Latitude on {(datetime)}\")\n",
    "plt.savefig(\"images/MaxTempbyLatitude.png\")\n",
    "plt.show()"
   ]
  },
  {
   "cell_type": "markdown",
   "metadata": {},
   "source": [
    "The code and scatter plot above is analyzing the max temperatures in fahrenheit for each city (randomly taken) on the date pulled and displayed in the last column of my dataframe. Max Temp is then plotted out according to the city's latitude. This is showing that at latitude 0 and north, max temps are higher, which makes sense since the northern hemisphere is currently in its summer time. Anything south of the equator drops in temperature. The equator remains stable around 81 degrees. "
   ]
  },
  {
   "cell_type": "markdown",
   "metadata": {},
   "source": [
    "## Latitude vs. Humidity Plot"
   ]
  },
  {
   "cell_type": "code",
   "execution_count": 74,
   "metadata": {},
   "outputs": [
    {
     "data": {
      "image/png": "[encoded data removed]",
      "text/plain": [
       "<Figure size 432x288 with 1 Axes>"
      ]
     },
     "metadata": {
      "needs_background": "light"
     },
     "output_type": "display_data"
    }
   ],
   "source": [
    "# x axis is lat and y = max temp in F \n",
    "x_axis2 = weather_df['Lat']\n",
    "y_axis2 = weather_df['Humidity']\n",
    "plt.scatter(x_axis2, y_axis2)\n",
    "#plot.scatter(kind=\"scatter\", x=\"Latitude\", y=\"Max Temp\", grid=False, figsize=(6,5),\n",
    "             # title=\"Testing\")\n",
    "# label\n",
    "plt.xlabel(\"Latitude\")\n",
    "plt.ylabel(\"Humidity Percentage\")\n",
    "plt.title(f\"Humidity by Latitude on {(datetime)}\")\n",
    "plt.savefig(\"images/HumidityLatitude.png\")\n",
    "plt.show()"
   ]
  },
  {
   "cell_type": "markdown",
   "metadata": {},
   "source": [
    "The code and scatter plot above is analyzing the humidity for each city (randomly taken) on the date pulled and displayed in the last column of my dataframe. Hunmidity is then plotted out according to the city's latitude. This is showing that humidity is steadily above 60% regardless of the latitude. There is a slightly higher concentration of low humidity cities north of the equator. "
   ]
  },
  {
   "cell_type": "markdown",
   "metadata": {},
   "source": [
    "## Latitude vs. Cloudiness Plot"
   ]
  },
  {
   "cell_type": "code",
   "execution_count": 75,
   "metadata": {},
   "outputs": [
    {
     "data": {
      "image/png": "[encoded data removed]",
      "text/plain": [
       "<Figure size 432x288 with 1 Axes>"
      ]
     },
     "metadata": {
      "needs_background": "light"
     },
     "output_type": "display_data"
    }
   ],
   "source": [
    "# x axis is lat and y = max temp in F \n",
    "x_axis3 = weather_df['Lat']\n",
    "y_axis3 = weather_df['Cloudiness']\n",
    "plt.scatter(x_axis3, y_axis3)\n",
    "#plot.scatter(kind=\"scatter\", x=\"Latitude\", y=\"Max Temp\", grid=False, figsize=(6,5),\n",
    "             # title=\"Testing\")\n",
    "# label\n",
    "plt.xlabel(\"Latitude\")\n",
    "plt.ylabel(\"Cloudiness\")\n",
    "plt.title(f\"Cloudiness by Latitude on {(datetime)}\")\n",
    "plt.savefig(\"images/CloudinessLatitude.png\")\n",
    "plt.show()"
   ]
  },
  {
   "cell_type": "markdown",
   "metadata": {},
   "source": [
    "The code and scatter plot above is analyzing the cloudiness for each city (randomly taken) on the date pulled and displayed in the last column of my dataframe. Cloudiness is then plotted out according to the city's latitude. This is showing that cloudiness is a bit random but has concentrations of 0 and 100 between latitudes of -40 and 80. "
   ]
  },
  {
   "cell_type": "markdown",
   "metadata": {},
   "source": [
    "## Latitude vs. Wind Speed Plot"
   ]
  },
  {
   "cell_type": "code",
   "execution_count": 76,
   "metadata": {},
   "outputs": [
    {
     "data": {
      "image/png": "[encoded data removed]",
      "text/plain": [
       "<Figure size 432x288 with 1 Axes>"
      ]
     },
     "metadata": {
      "needs_background": "light"
     },
     "output_type": "display_data"
    }
   ],
   "source": [
    "# x axis is lat and y = max temp in F \n",
    "x_axis4 = weather_df['Lat']\n",
    "y_axis4 = weather_df['Wind Speed']\n",
    "plt.scatter(x_axis4, y_axis4)\n",
    "#plot.scatter(kind=\"scatter\", x=\"Latitude\", y=\"Max Temp\", grid=False, figsize=(6,5),\n",
    "             # title=\"Testing\")\n",
    "# label\n",
    "plt.xlabel(\"Latitude\")\n",
    "plt.ylabel(\"Windspeed (mph)\")\n",
    "plt.title(f\"Wind Speed by Latitude on {(datetime)}\")\n",
    "plt.savefig(\"images/WindspeedLatitude.png\")\n",
    "plt.show()"
   ]
  },
  {
   "cell_type": "markdown",
   "metadata": {},
   "source": [
    "The code and scatter plot above is analyzing the windspeed for each city (randomly taken) on the date pulled and displayed in the last column of my dataframe. Windspeed is then plotted out according to the city's latitude. This is showing that windspeed remains steadily below 15mph regardless of latitude. Cities with windspeeds above 15 are scattered across different latitudes. "
   ]
  },
  {
   "cell_type": "markdown",
   "metadata": {},
   "source": [
    "## Linear Regression"
   ]
  },
  {
   "cell_type": "code",
   "execution_count": 11,
   "metadata": {},
   "outputs": [],
   "source": [
    "# OPTIONAL: Create a function to create Linear Regression plots\n",
    "# My function will loop through my lists so I can call the function for whatever my two variables are for the x\n",
    "# and y axis. I will then call the function in a loop of the list. "
   ]
  },
  {
   "cell_type": "code",
   "execution_count": 77,
   "metadata": {},
   "outputs": [],
   "source": [
    "# Build out a function for linear regression for my scatterplots. \n",
    "def linfunct(x_values, y_values,title,xlabel,ylabel,i,l):\n",
    "    #Stats will call from my variable above and then look for what ever argument I establish in ()\n",
    "    (slope, intercept, rvalue, pvalue, stderr) = linregress(x_values, y_values)\n",
    "    regress_values = x_values * slope + intercept\n",
    "    line_eq = \"y = \" + str(round(slope,2)) + \"x + \" + str(round(intercept,2))\n",
    "    #plot and format\n",
    "    plt.scatter(x_values,y_values)\n",
    "    plt.plot(x_values,regress_values,\"red\")\n",
    "    plt.annotate(line_eq,(i,l), fontsize=10,color=\"red\")\n",
    "    print(f'The correlation coefficient: {(rvalue).round(2)}')\n",
    "    print(f'The slope is: {(slope).round(2)} and intercept is: {(intercept).round(2)}')\n",
    "    #label\n",
    "    plt.xlabel(xlabel)\n",
    "    plt.ylabel(ylabel)\n",
    "    plt.title(title)\n",
    "    plt.savefig(f\"images/{title}linreg.png\")\n",
    "    plt.show()"
   ]
  },
  {
   "cell_type": "code",
   "execution_count": 62,
   "metadata": {},
   "outputs": [],
   "source": [
    "# Create Northern and Southern Hemisphere DataFrames\n",
    "northern_df = weather_df.loc[(weather_df['Lat']>0.01)]\n",
    "southern_df = weather_df.loc[(weather_df['Lat']<0)]"
   ]
  },
  {
   "cell_type": "markdown",
   "metadata": {},
   "source": [
    "####  Northern Hemisphere - Max Temp vs. Latitude Linear Regression"
   ]
  },
  {
   "cell_type": "code",
   "execution_count": 78,
   "metadata": {},
   "outputs": [
    {
     "name": "stdout",
     "output_type": "stream",
     "text": [
      "The correlation coefficient: -0.65\n",
      "The slope is: -0.48 and intercept is: 91.34\n"
     ]
    },
    {
     "data": {
      "image/png": "[encoded data removed]",
      "text/plain": [
       "<Figure size 432x288 with 1 Axes>"
      ]
     },
     "metadata": {
      "needs_background": "light"
     },
     "output_type": "display_data"
    }
   ],
   "source": [
    "#Plug in my function and arguments, repeat these steps below: \n",
    "linfunct(northern_df[\"Lat\"],northern_df['Max Temp'],\\\n",
    "         title=\"Northern Hem: Max Temp by Latitude\",xlabel = \"Latitude\", ylabel = \"Max Temp (F)\", i=30,l=50)"
   ]
  },
  {
   "cell_type": "markdown",
   "metadata": {},
   "source": [
    "Similar to the scatterplot above for Max Temp by Latitude, this plot is specifically for the northern hemisphere. What this is showing is that there is a Moderate, Negative correlation between northern latitudes and max temp. So the higher north you go from the equator, the lower the max temp."
   ]
  },
  {
   "cell_type": "markdown",
   "metadata": {},
   "source": [
    "####  Southern Hemisphere - Max Temp vs. Latitude Linear Regression"
   ]
  },
  {
   "cell_type": "code",
   "execution_count": 64,
   "metadata": {},
   "outputs": [
    {
     "name": "stdout",
     "output_type": "stream",
     "text": [
      "The correlation coefficient: 0.85\n",
      "The slope is: 0.93 and intercept is: 84.81\n"
     ]
    },
    {
     "data": {
      "image/png": "[encoded data removed]",
      "text/plain": [
       "<Figure size 432x288 with 1 Axes>"
      ]
     },
     "metadata": {
      "needs_background": "light"
     },
     "output_type": "display_data"
    }
   ],
   "source": [
    "linfunct(southern_df['Lat'],southern_df['Max Temp']\\\n",
    "         ,title=\"Southern Hem: Max Temp by Latitude\",xlabel = \"Latitude\", ylabel = \"Max Temp (F)\",i=-40,l=80)"
   ]
  },
  {
   "cell_type": "markdown",
   "metadata": {},
   "source": [
    "Similar to the scatterplot above for Max Temp by Latitude, this plot is specifically for the southern hemisphere. What this is showing is that there is a Strong, Positive correlation between southern hemisphere latitudes and max temp. So the closer one gets to the equator, the higher the max temperature gets. "
   ]
  },
  {
   "cell_type": "markdown",
   "metadata": {},
   "source": [
    "####  Northern Hemisphere - Humidity (%) vs. Latitude Linear Regression"
   ]
  },
  {
   "cell_type": "code",
   "execution_count": 65,
   "metadata": {},
   "outputs": [
    {
     "name": "stdout",
     "output_type": "stream",
     "text": [
      "The correlation coefficient: 0.03\n",
      "The slope is: 0.03 and intercept is: 66.91\n"
     ]
    },
    {
     "data": {
      "image/png": "[encoded data removed]",
      "text/plain": [
       "<Figure size 432x288 with 1 Axes>"
      ]
     },
     "metadata": {
      "needs_background": "light"
     },
     "output_type": "display_data"
    }
   ],
   "source": [
    "linfunct(northern_df['Lat'],northern_df['Humidity'],\\\n",
    "         title=\"Northern Hem: Humidity by Latitude\",xlabel = \"Latitude\", ylabel = \"Humidity\", i=60,l=40)"
   ]
  },
  {
   "cell_type": "markdown",
   "metadata": {},
   "source": [
    "Northern Hemisphere: What this is showing is that there is a none-to-weak correlation between northern hemisphere latitudes and humidity. However, the line intercept is 67 and remains around there, so it tends to be more humid regardless of latitude. "
   ]
  },
  {
   "cell_type": "markdown",
   "metadata": {},
   "source": [
    "####  Southern Hemisphere - Humidity (%) vs. Latitude Linear Regression"
   ]
  },
  {
   "cell_type": "code",
   "execution_count": 66,
   "metadata": {},
   "outputs": [
    {
     "name": "stdout",
     "output_type": "stream",
     "text": [
      "The correlation coefficient: 0.03\n",
      "The slope is: 0.05 and intercept is: 69.95\n"
     ]
    },
    {
     "data": {
      "image/png": "[encoded data removed]",
      "text/plain": [
       "<Figure size 432x288 with 1 Axes>"
      ]
     },
     "metadata": {
      "needs_background": "light"
     },
     "output_type": "display_data"
    }
   ],
   "source": [
    "linfunct(southern_df['Lat'],southern_df['Humidity'],title=\"Southern Hem: Humidity by Latitude\",\\\n",
    "         xlabel = \"Latitude\", ylabel = \"Humidity\", i=-50,l=60)"
   ]
  },
  {
   "cell_type": "markdown",
   "metadata": {},
   "source": [
    "Southern Hemisphere: What this is showing is that there is a none-to-weak correlation between southern hemisphere latitudes and humidity. The line intercept is 70 and remains around there, so it tends to be more humid regardless of latitude."
   ]
  },
  {
   "cell_type": "markdown",
   "metadata": {},
   "source": [
    "####  Northern Hemisphere - Cloudiness (%) vs. Latitude Linear Regression"
   ]
  },
  {
   "cell_type": "code",
   "execution_count": 71,
   "metadata": {},
   "outputs": [
    {
     "name": "stdout",
     "output_type": "stream",
     "text": [
      "The correlation coefficient: -0.03\n",
      "The slope is: -0.06 and intercept is: 53.66\n"
     ]
    },
    {
     "data": {
      "image/png": "[encoded data removed]",
      "text/plain": [
       "<Figure size 432x288 with 1 Axes>"
      ]
     },
     "metadata": {
      "needs_background": "light"
     },
     "output_type": "display_data"
    }
   ],
   "source": [
    "linfunct(northern_df['Lat'],northern_df['Cloudiness'],title=\"Northern Hem: Cloudiness by Latitude\",\\\n",
    "         xlabel = \"Latitude\", ylabel = \"Cloudiness\", i=30,l=60)"
   ]
  },
  {
   "cell_type": "markdown",
   "metadata": {},
   "source": [
    "Northern Hemisphere: What this is showing is that there is a none-to-weak, negative correlation between northern hemisphere latitudes and cloudiness. Generally, across all latitudes, it is about 50 cloudiness and the higher one goes north, you get a very slight reduction. "
   ]
  },
  {
   "cell_type": "markdown",
   "metadata": {},
   "source": [
    "####  Southern Hemisphere - Cloudiness (%) vs. Latitude Linear Regression"
   ]
  },
  {
   "cell_type": "code",
   "execution_count": 68,
   "metadata": {},
   "outputs": [
    {
     "name": "stdout",
     "output_type": "stream",
     "text": [
      "The correlation coefficient: 0.15\n",
      "The slope is: 0.41 and intercept is: 49.82\n"
     ]
    },
    {
     "data": {
      "image/png": "[encoded data removed]",
      "text/plain": [
       "<Figure size 432x288 with 1 Axes>"
      ]
     },
     "metadata": {
      "needs_background": "light"
     },
     "output_type": "display_data"
    }
   ],
   "source": [
    "linfunct(southern_df['Lat'],southern_df['Cloudiness'],title=\"Southern Hem: Cloudiness by Latitude\",\\\n",
    "         xlabel = \"Latitude\", ylabel = \"Cloudiness\",i=-40,l=50)"
   ]
  },
  {
   "cell_type": "markdown",
   "metadata": {},
   "source": [
    "Southern Hemisphere: What this is showing is that there is a weak, positive correlation between southern hemisphere latitudes and cloudiness. The lower latitudes start around 30 cloudiness and it y-intercepts at 50, so the closer to the equator, the cloudier. But again, this is a weak correlation. "
   ]
  },
  {
   "cell_type": "markdown",
   "metadata": {},
   "source": [
    "####  Northern Hemisphere - Wind Speed (mph) vs. Latitude Linear Regression"
   ]
  },
  {
   "cell_type": "code",
   "execution_count": 69,
   "metadata": {},
   "outputs": [
    {
     "name": "stdout",
     "output_type": "stream",
     "text": [
      "The correlation coefficient: 0.04\n",
      "The slope is: 0.01 and intercept is: 7.64\n"
     ]
    },
    {
     "data": {
      "image/png": "[encoded data removed]",
      "text/plain": [
       "<Figure size 432x288 with 1 Axes>"
      ]
     },
     "metadata": {
      "needs_background": "light"
     },
     "output_type": "display_data"
    }
   ],
   "source": [
    "linfunct(northern_df['Lat'],northern_df['Wind Speed'],title=\"Northern Hem: Wind Speed (mph) by Latitude\",\\\n",
    "         xlabel = \"Latitude\", ylabel = \"Wind Speed(mph)\", i=50,l=25)"
   ]
  },
  {
   "cell_type": "markdown",
   "metadata": {},
   "source": [
    "Northern Hemisphere: What this is showing is that there is a none-to-weak, positive correlation between northern hemisphere latitudes and windspeed. Windspeed stays relatively low with a y-intercept of 7.64, with almost no change. "
   ]
  },
  {
   "cell_type": "markdown",
   "metadata": {},
   "source": [
    "####  Southern Hemisphere - Wind Speed (mph) vs. Latitude Linear Regression"
   ]
  },
  {
   "cell_type": "code",
   "execution_count": 70,
   "metadata": {},
   "outputs": [
    {
     "name": "stdout",
     "output_type": "stream",
     "text": [
      "The correlation coefficient: 0.06\n",
      "The slope is: 0.02 and intercept is: 7.28\n"
     ]
    },
    {
     "data": {
      "image/png": "[encoded data removed]",
      "text/plain": [
       "<Figure size 432x288 with 1 Axes>"
      ]
     },
     "metadata": {
      "needs_background": "light"
     },
     "output_type": "display_data"
    }
   ],
   "source": [
    "linfunct(southern_df['Lat'],southern_df['Wind Speed'],title=\"Southern Hem: Wind Speed (mph) by Latitude\",\\\n",
    "         xlabel = \"Latitude\", ylabel = \"Wind Speed (mph)\",i=-55,l=5)"
   ]
  },
  {
   "cell_type": "markdown",
   "metadata": {},
   "source": [
    "Southern Hemisphere: What this is showing is that there is a none-to-weak, positive correlation between southern hemisphere latitudes and windspeed. Windspeed stays relatively low with a y-intercept of 7.28, with almost no change. This is very similar to the north hemisphere wind speed plot above. "
   ]
  },
  {
   "cell_type": "code",
   "execution_count": null,
   "metadata": {},
   "outputs": [],
   "source": []
  }
 ],
 "metadata": {
  "anaconda-cloud": {},
  "kernel_info": {
   "name": "python3"
  },
  "kernelspec": {
   "display_name": "Python 3.6.10 64-bit ('PythonData': conda)",
   "language": "python",
   "name": "python361064bitpythondatacondace2211bfc12e47899cb7e87ecf03a1f4"
  },
  "language_info": {
   "codemirror_mode": {
    "name": "ipython",
    "version": 3
   },
   "file_extension": ".py",
   "mimetype": "text/x-python",
   "name": "python",
   "nbconvert_exporter": "python",
   "pygments_lexer": "ipython3",
   "version": "3.6.10"
  },
  "latex_envs": {
   "LaTeX_envs_menu_present": true,
   "autoclose": false,
   "autocomplete": true,
   "bibliofile": "biblio.bib",
   "cite_by": "apalike",
   "current_citInitial": 1,
   "eqLabelWithNumbers": true,
   "eqNumInitial": 1,
   "hotkeys": {
    "equation": "Ctrl-E",
    "itemize": "Ctrl-I"
   },
   "labels_anchors": false,
   "latex_user_defs": false,
   "report_style_numbering": false,
   "user_envs_cfg": false
  },
  "nteract": {
   "version": "0.12.3"
  }
 },
 "nbformat": 4,
 "nbformat_minor": 2
}
